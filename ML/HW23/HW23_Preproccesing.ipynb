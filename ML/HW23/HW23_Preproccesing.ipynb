{
 "cells": [
  {
   "cell_type": "code",
   "execution_count": 1,
   "metadata": {},
   "outputs": [],
   "source": [
    "import pandas as pd\n",
    "import numpy as np\n",
    "import matplotlib.pyplot as plt\n",
    "import seaborn as sns\n",
    "from sklearn import preprocessing\n",
    "from scipy import stats\n",
    "%matplotlib inline\n",
    "from sklearn import model_selection\n",
    "from sklearn import linear_model\n",
    "from sklearn import feature_selection as fs\n",
    "from sklearn import metrics"
   ]
  },
  {
   "cell_type": "code",
   "execution_count": 2,
   "metadata": {},
   "outputs": [],
   "source": [
    "import warnings\n",
    "warnings.filterwarnings('ignore')"
   ]
  },
  {
   "cell_type": "code",
   "execution_count": 3,
   "metadata": {},
   "outputs": [],
   "source": [
    "with open('epi_r.csv') as f:\n",
    "    df = pd.read_csv(f)"
   ]
  },
  {
   "cell_type": "code",
   "execution_count": 5,
   "metadata": {},
   "outputs": [
    {
     "data": {
      "text/plain": [
       "(20052, 680)"
      ]
     },
     "execution_count": 5,
     "metadata": {},
     "output_type": "execute_result"
    }
   ],
   "source": [
    "df.shape"
   ]
  },
  {
   "cell_type": "markdown",
   "metadata": {},
   "source": [
    "### Задача: обучить модель предсказывать рэйтинг блюда"
   ]
  },
  {
   "cell_type": "markdown",
   "metadata": {},
   "source": [
    "Необходимо сделать следующие шаги:\n",
    "\n",
    "1) Сделать что-то с пропусками(выбросить или заполнить чем либо)\n",
    "\n",
    "2) Сделать что-то с дубликатами\n",
    "\n",
    "3) Проверсти препроцессинг(выделить факторы, нормальзовать факторы)\n",
    "\n",
    "4) Попробовать добваить новые факторы на основе имеющихся\n",
    "\n",
    "5) Обучить модель и проверить результаты на тестовой выборке(изначально нужно разделить на тестовыю и обучающуюся)"
   ]
  },
  {
   "cell_type": "code",
   "execution_count": 6,
   "metadata": {},
   "outputs": [
    {
     "name": "stdout",
     "output_type": "stream",
     "text": [
      "<class 'pandas.core.frame.DataFrame'>\n",
      "RangeIndex: 20052 entries, 0 to 20051\n",
      "Columns: 680 entries, title to turkey\n",
      "dtypes: float64(679), object(1)\n",
      "memory usage: 104.0+ MB\n"
     ]
    }
   ],
   "source": [
    "df.info()"
   ]
  },
  {
   "cell_type": "markdown",
   "metadata": {},
   "source": [
    "#### Из описания видно, что только один столбец содержит в себе строки, а остальные столбцы - числа"
   ]
  },
  {
   "cell_type": "code",
   "execution_count": 7,
   "metadata": {},
   "outputs": [
    {
     "data": {
      "text/html": [
       "<div>\n",
       "<style scoped>\n",
       "    .dataframe tbody tr th:only-of-type {\n",
       "        vertical-align: middle;\n",
       "    }\n",
       "\n",
       "    .dataframe tbody tr th {\n",
       "        vertical-align: top;\n",
       "    }\n",
       "\n",
       "    .dataframe thead th {\n",
       "        text-align: right;\n",
       "    }\n",
       "</style>\n",
       "<table border=\"1\" class=\"dataframe\">\n",
       "  <thead>\n",
       "    <tr style=\"text-align: right;\">\n",
       "      <th></th>\n",
       "      <th>rating</th>\n",
       "      <th>calories</th>\n",
       "      <th>protein</th>\n",
       "      <th>fat</th>\n",
       "      <th>sodium</th>\n",
       "      <th>#cakeweek</th>\n",
       "      <th>#wasteless</th>\n",
       "      <th>22-minute meals</th>\n",
       "      <th>3-ingredient recipes</th>\n",
       "      <th>30 days of groceries</th>\n",
       "      <th>...</th>\n",
       "      <th>yellow squash</th>\n",
       "      <th>yogurt</th>\n",
       "      <th>yonkers</th>\n",
       "      <th>yuca</th>\n",
       "      <th>zucchini</th>\n",
       "      <th>cookbooks</th>\n",
       "      <th>leftovers</th>\n",
       "      <th>snack</th>\n",
       "      <th>snack week</th>\n",
       "      <th>turkey</th>\n",
       "    </tr>\n",
       "  </thead>\n",
       "  <tbody>\n",
       "    <tr>\n",
       "      <th>count</th>\n",
       "      <td>20052.000000</td>\n",
       "      <td>1.593500e+04</td>\n",
       "      <td>15890.000000</td>\n",
       "      <td>1.586900e+04</td>\n",
       "      <td>1.593300e+04</td>\n",
       "      <td>20052.000000</td>\n",
       "      <td>20052.000000</td>\n",
       "      <td>20052.000000</td>\n",
       "      <td>20052.000000</td>\n",
       "      <td>20052.000000</td>\n",
       "      <td>...</td>\n",
       "      <td>20052.000000</td>\n",
       "      <td>20052.000000</td>\n",
       "      <td>20052.000000</td>\n",
       "      <td>20052.000000</td>\n",
       "      <td>20052.000000</td>\n",
       "      <td>20052.000000</td>\n",
       "      <td>20052.000000</td>\n",
       "      <td>20052.000000</td>\n",
       "      <td>20052.000000</td>\n",
       "      <td>20052.000000</td>\n",
       "    </tr>\n",
       "    <tr>\n",
       "      <th>mean</th>\n",
       "      <td>3.714467</td>\n",
       "      <td>6.322958e+03</td>\n",
       "      <td>100.160793</td>\n",
       "      <td>3.468775e+02</td>\n",
       "      <td>6.225975e+03</td>\n",
       "      <td>0.000299</td>\n",
       "      <td>0.000050</td>\n",
       "      <td>0.000848</td>\n",
       "      <td>0.001346</td>\n",
       "      <td>0.000349</td>\n",
       "      <td>...</td>\n",
       "      <td>0.001247</td>\n",
       "      <td>0.026332</td>\n",
       "      <td>0.000050</td>\n",
       "      <td>0.000299</td>\n",
       "      <td>0.014861</td>\n",
       "      <td>0.000150</td>\n",
       "      <td>0.000349</td>\n",
       "      <td>0.001396</td>\n",
       "      <td>0.000948</td>\n",
       "      <td>0.022741</td>\n",
       "    </tr>\n",
       "    <tr>\n",
       "      <th>std</th>\n",
       "      <td>1.340829</td>\n",
       "      <td>3.590460e+05</td>\n",
       "      <td>3840.318527</td>\n",
       "      <td>2.045611e+04</td>\n",
       "      <td>3.333182e+05</td>\n",
       "      <td>0.017296</td>\n",
       "      <td>0.007062</td>\n",
       "      <td>0.029105</td>\n",
       "      <td>0.036671</td>\n",
       "      <td>0.018681</td>\n",
       "      <td>...</td>\n",
       "      <td>0.035288</td>\n",
       "      <td>0.160123</td>\n",
       "      <td>0.007062</td>\n",
       "      <td>0.017296</td>\n",
       "      <td>0.121001</td>\n",
       "      <td>0.012231</td>\n",
       "      <td>0.018681</td>\n",
       "      <td>0.037343</td>\n",
       "      <td>0.030768</td>\n",
       "      <td>0.149080</td>\n",
       "    </tr>\n",
       "    <tr>\n",
       "      <th>min</th>\n",
       "      <td>0.000000</td>\n",
       "      <td>0.000000e+00</td>\n",
       "      <td>0.000000</td>\n",
       "      <td>0.000000e+00</td>\n",
       "      <td>0.000000e+00</td>\n",
       "      <td>0.000000</td>\n",
       "      <td>0.000000</td>\n",
       "      <td>0.000000</td>\n",
       "      <td>0.000000</td>\n",
       "      <td>0.000000</td>\n",
       "      <td>...</td>\n",
       "      <td>0.000000</td>\n",
       "      <td>0.000000</td>\n",
       "      <td>0.000000</td>\n",
       "      <td>0.000000</td>\n",
       "      <td>0.000000</td>\n",
       "      <td>0.000000</td>\n",
       "      <td>0.000000</td>\n",
       "      <td>0.000000</td>\n",
       "      <td>0.000000</td>\n",
       "      <td>0.000000</td>\n",
       "    </tr>\n",
       "    <tr>\n",
       "      <th>25%</th>\n",
       "      <td>3.750000</td>\n",
       "      <td>1.980000e+02</td>\n",
       "      <td>3.000000</td>\n",
       "      <td>7.000000e+00</td>\n",
       "      <td>8.000000e+01</td>\n",
       "      <td>0.000000</td>\n",
       "      <td>0.000000</td>\n",
       "      <td>0.000000</td>\n",
       "      <td>0.000000</td>\n",
       "      <td>0.000000</td>\n",
       "      <td>...</td>\n",
       "      <td>0.000000</td>\n",
       "      <td>0.000000</td>\n",
       "      <td>0.000000</td>\n",
       "      <td>0.000000</td>\n",
       "      <td>0.000000</td>\n",
       "      <td>0.000000</td>\n",
       "      <td>0.000000</td>\n",
       "      <td>0.000000</td>\n",
       "      <td>0.000000</td>\n",
       "      <td>0.000000</td>\n",
       "    </tr>\n",
       "    <tr>\n",
       "      <th>50%</th>\n",
       "      <td>4.375000</td>\n",
       "      <td>3.310000e+02</td>\n",
       "      <td>8.000000</td>\n",
       "      <td>1.700000e+01</td>\n",
       "      <td>2.940000e+02</td>\n",
       "      <td>0.000000</td>\n",
       "      <td>0.000000</td>\n",
       "      <td>0.000000</td>\n",
       "      <td>0.000000</td>\n",
       "      <td>0.000000</td>\n",
       "      <td>...</td>\n",
       "      <td>0.000000</td>\n",
       "      <td>0.000000</td>\n",
       "      <td>0.000000</td>\n",
       "      <td>0.000000</td>\n",
       "      <td>0.000000</td>\n",
       "      <td>0.000000</td>\n",
       "      <td>0.000000</td>\n",
       "      <td>0.000000</td>\n",
       "      <td>0.000000</td>\n",
       "      <td>0.000000</td>\n",
       "    </tr>\n",
       "    <tr>\n",
       "      <th>75%</th>\n",
       "      <td>4.375000</td>\n",
       "      <td>5.860000e+02</td>\n",
       "      <td>27.000000</td>\n",
       "      <td>3.300000e+01</td>\n",
       "      <td>7.110000e+02</td>\n",
       "      <td>0.000000</td>\n",
       "      <td>0.000000</td>\n",
       "      <td>0.000000</td>\n",
       "      <td>0.000000</td>\n",
       "      <td>0.000000</td>\n",
       "      <td>...</td>\n",
       "      <td>0.000000</td>\n",
       "      <td>0.000000</td>\n",
       "      <td>0.000000</td>\n",
       "      <td>0.000000</td>\n",
       "      <td>0.000000</td>\n",
       "      <td>0.000000</td>\n",
       "      <td>0.000000</td>\n",
       "      <td>0.000000</td>\n",
       "      <td>0.000000</td>\n",
       "      <td>0.000000</td>\n",
       "    </tr>\n",
       "    <tr>\n",
       "      <th>max</th>\n",
       "      <td>5.000000</td>\n",
       "      <td>3.011122e+07</td>\n",
       "      <td>236489.000000</td>\n",
       "      <td>1.722763e+06</td>\n",
       "      <td>2.767511e+07</td>\n",
       "      <td>1.000000</td>\n",
       "      <td>1.000000</td>\n",
       "      <td>1.000000</td>\n",
       "      <td>1.000000</td>\n",
       "      <td>1.000000</td>\n",
       "      <td>...</td>\n",
       "      <td>1.000000</td>\n",
       "      <td>1.000000</td>\n",
       "      <td>1.000000</td>\n",
       "      <td>1.000000</td>\n",
       "      <td>1.000000</td>\n",
       "      <td>1.000000</td>\n",
       "      <td>1.000000</td>\n",
       "      <td>1.000000</td>\n",
       "      <td>1.000000</td>\n",
       "      <td>1.000000</td>\n",
       "    </tr>\n",
       "  </tbody>\n",
       "</table>\n",
       "<p>8 rows × 679 columns</p>\n",
       "</div>"
      ],
      "text/plain": [
       "             rating      calories        protein           fat        sodium  \\\n",
       "count  20052.000000  1.593500e+04   15890.000000  1.586900e+04  1.593300e+04   \n",
       "mean       3.714467  6.322958e+03     100.160793  3.468775e+02  6.225975e+03   \n",
       "std        1.340829  3.590460e+05    3840.318527  2.045611e+04  3.333182e+05   \n",
       "min        0.000000  0.000000e+00       0.000000  0.000000e+00  0.000000e+00   \n",
       "25%        3.750000  1.980000e+02       3.000000  7.000000e+00  8.000000e+01   \n",
       "50%        4.375000  3.310000e+02       8.000000  1.700000e+01  2.940000e+02   \n",
       "75%        4.375000  5.860000e+02      27.000000  3.300000e+01  7.110000e+02   \n",
       "max        5.000000  3.011122e+07  236489.000000  1.722763e+06  2.767511e+07   \n",
       "\n",
       "          #cakeweek    #wasteless  22-minute meals  3-ingredient recipes  \\\n",
       "count  20052.000000  20052.000000     20052.000000          20052.000000   \n",
       "mean       0.000299      0.000050         0.000848              0.001346   \n",
       "std        0.017296      0.007062         0.029105              0.036671   \n",
       "min        0.000000      0.000000         0.000000              0.000000   \n",
       "25%        0.000000      0.000000         0.000000              0.000000   \n",
       "50%        0.000000      0.000000         0.000000              0.000000   \n",
       "75%        0.000000      0.000000         0.000000              0.000000   \n",
       "max        1.000000      1.000000         1.000000              1.000000   \n",
       "\n",
       "       30 days of groceries  ...  yellow squash        yogurt       yonkers  \\\n",
       "count          20052.000000  ...   20052.000000  20052.000000  20052.000000   \n",
       "mean               0.000349  ...       0.001247      0.026332      0.000050   \n",
       "std                0.018681  ...       0.035288      0.160123      0.007062   \n",
       "min                0.000000  ...       0.000000      0.000000      0.000000   \n",
       "25%                0.000000  ...       0.000000      0.000000      0.000000   \n",
       "50%                0.000000  ...       0.000000      0.000000      0.000000   \n",
       "75%                0.000000  ...       0.000000      0.000000      0.000000   \n",
       "max                1.000000  ...       1.000000      1.000000      1.000000   \n",
       "\n",
       "               yuca      zucchini     cookbooks     leftovers         snack  \\\n",
       "count  20052.000000  20052.000000  20052.000000  20052.000000  20052.000000   \n",
       "mean       0.000299      0.014861      0.000150      0.000349      0.001396   \n",
       "std        0.017296      0.121001      0.012231      0.018681      0.037343   \n",
       "min        0.000000      0.000000      0.000000      0.000000      0.000000   \n",
       "25%        0.000000      0.000000      0.000000      0.000000      0.000000   \n",
       "50%        0.000000      0.000000      0.000000      0.000000      0.000000   \n",
       "75%        0.000000      0.000000      0.000000      0.000000      0.000000   \n",
       "max        1.000000      1.000000      1.000000      1.000000      1.000000   \n",
       "\n",
       "         snack week        turkey  \n",
       "count  20052.000000  20052.000000  \n",
       "mean       0.000948      0.022741  \n",
       "std        0.030768      0.149080  \n",
       "min        0.000000      0.000000  \n",
       "25%        0.000000      0.000000  \n",
       "50%        0.000000      0.000000  \n",
       "75%        0.000000      0.000000  \n",
       "max        1.000000      1.000000  \n",
       "\n",
       "[8 rows x 679 columns]"
      ]
     },
     "execution_count": 7,
     "metadata": {},
     "output_type": "execute_result"
    }
   ],
   "source": [
    "df.describe()"
   ]
  },
  {
   "cell_type": "code",
   "execution_count": 7,
   "metadata": {},
   "outputs": [],
   "source": [
    "df_train, df_test = model_selection.train_test_split(df)"
   ]
  },
  {
   "cell_type": "code",
   "execution_count": 10,
   "metadata": {},
   "outputs": [
    {
     "data": {
      "text/plain": [
       "((15039, 680), (5013, 680))"
      ]
     },
     "execution_count": 10,
     "metadata": {},
     "output_type": "execute_result"
    }
   ],
   "source": [
    "df_train.shape, df_test.shape"
   ]
  },
  {
   "cell_type": "code",
   "execution_count": 11,
   "metadata": {
    "scrolled": true
   },
   "outputs": [
    {
     "data": {
      "text/plain": [
       "4"
      ]
     },
     "execution_count": 11,
     "metadata": {},
     "output_type": "execute_result"
    }
   ],
   "source": [
    "sum(df_train.isna().sum() > 0)"
   ]
  },
  {
   "cell_type": "code",
   "execution_count": 12,
   "metadata": {
    "scrolled": true
   },
   "outputs": [
    {
     "data": {
      "text/plain": [
       "calories    3105\n",
       "sodium      3106\n",
       "protein     3145\n",
       "fat         3162\n",
       "dtype: int64"
      ]
     },
     "execution_count": 12,
     "metadata": {},
     "output_type": "execute_result"
    }
   ],
   "source": [
    "df_train.isna().sum().sort_values()[-4:]"
   ]
  },
  {
   "cell_type": "markdown",
   "metadata": {},
   "source": [
    "#### calories, protein, fat, sodium -  имеют пропущенные значения"
   ]
  },
  {
   "cell_type": "code",
   "execution_count": 20,
   "metadata": {},
   "outputs": [],
   "source": [
    "treshholds = [\n",
    "    ('calories', 2000),\n",
    "    ('sodium', 3000),\n",
    "    ('fat', 150),\n",
    "    ('protein', 150)\n",
    "]"
   ]
  },
  {
   "cell_type": "code",
   "execution_count": 21,
   "metadata": {},
   "outputs": [
    {
     "data": {
      "text/plain": [
       "<matplotlib.axes._subplots.AxesSubplot at 0x207c8dc4550>"
      ]
     },
     "execution_count": 21,
     "metadata": {},
     "output_type": "execute_result"
    },
    {
     "data": {
      "image/png": "[encoded data removed]",
      "text/plain": [
       "<Figure size 432x288 with 1 Axes>"
      ]
     },
     "metadata": {
      "needs_background": "light"
     },
     "output_type": "display_data"
    }
   ],
   "source": [
    "sns.distplot(df_train.calories[df_train.calories < 2000].dropna())"
   ]
  },
  {
   "cell_type": "code",
   "execution_count": 24,
   "metadata": {},
   "outputs": [
    {
     "data": {
      "text/plain": [
       "<matplotlib.axes._subplots.AxesSubplot at 0x207c6f75f98>"
      ]
     },
     "execution_count": 24,
     "metadata": {},
     "output_type": "execute_result"
    },
    {
     "data": {
      "image/png": "[encoded data removed]",
      "text/plain": [
       "<Figure size 432x288 with 1 Axes>"
      ]
     },
     "metadata": {
      "needs_background": "light"
     },
     "output_type": "display_data"
    }
   ],
   "source": [
    "sns.distplot(df_train.fat[df_train.fat < 150].dropna())"
   ]
  },
  {
   "cell_type": "code",
   "execution_count": 30,
   "metadata": {},
   "outputs": [
    {
     "data": {
      "text/plain": [
       "<matplotlib.axes._subplots.AxesSubplot at 0x207c929a828>"
      ]
     },
     "execution_count": 30,
     "metadata": {},
     "output_type": "execute_result"
    },
    {
     "data": {
      "image/png": "[encoded data removed]",
      "text/plain": [
       "<Figure size 432x288 with 1 Axes>"
      ]
     },
     "metadata": {
      "needs_background": "light"
     },
     "output_type": "display_data"
    }
   ],
   "source": [
    "sns.distplot(df_train.sodium[df_train.sodium < 3000].dropna())"
   ]
  },
  {
   "cell_type": "code",
   "execution_count": 32,
   "metadata": {},
   "outputs": [
    {
     "data": {
      "text/plain": [
       "<matplotlib.axes._subplots.AxesSubplot at 0x207dc94fda0>"
      ]
     },
     "execution_count": 32,
     "metadata": {},
     "output_type": "execute_result"
    },
    {
     "data": {
      "image/png": "[encoded data removed]",
      "text/plain": [
       "<Figure size 432x288 with 1 Axes>"
      ]
     },
     "metadata": {
      "needs_background": "light"
     },
     "output_type": "display_data"
    }
   ],
   "source": [
    "sns.distplot(df_train.protein[df_train.protein < 150].dropna())"
   ]
  }
 ],
 "metadata": {
  "kernelspec": {
   "display_name": "Python 3",
   "language": "python",
   "name": "python3"
  },
  "language_info": {
   "codemirror_mode": {
    "name": "ipython",
    "version": 3
   },
   "file_extension": ".py",
   "mimetype": "text/x-python",
   "name": "python",
   "nbconvert_exporter": "python",
   "pygments_lexer": "ipython3",
   "version": "3.7.3"
  }
 },
 "nbformat": 4,
 "nbformat_minor": 2
}
