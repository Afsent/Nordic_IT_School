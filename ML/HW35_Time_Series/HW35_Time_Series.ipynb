{
 "cells": [
  {
   "cell_type": "markdown",
   "metadata": {},
   "source": [
    "# Задача\n",
    "\n",
    "1. Скачайте временной ряд со значениями от IEX (Investors Exchange - Биржа Инвесторов) с помощью pandas_datareader. Берем значения close.\n",
    "2. Постройте предсказания для каждого следующего значения, используя:\n",
    "\n",
    "  2.1. Простое среднее по предыдущим N элементам (возьмите N = 10)\n",
    "  \n",
    "  2.2. Взвешенное среднее по предыдущим N элементам (веса нужно просто задать вручную, от большего к меньшему, сумма весов == 1)\n",
    "  \n",
    "  2.3. Экспоненциальное среднее.\n",
    "  \n",
    "  2.4. Двойное экспоненциальное среднее.\n",
    "  \n",
    "3. Для всех алгоритмов из п.2 (п.2.1 - п.2.4) Посчитайте расхождения предсказаний для разных алгоритмов (средняя квадратичная ошибка MSE). Какой из подходов дает наименьшее значение MSE? Почему?"
   ]
  },
  {
   "cell_type": "code",
   "execution_count": 2,
   "metadata": {},
   "outputs": [],
   "source": [
    "import pandas_datareader.data as web\n",
    "import datetime\n",
    "\n",
    "start = datetime.datetime(2015, 1, 1)\n",
    "end = datetime.datetime(2019, 1, 27)\n",
    "f = web.DataReader('F', 'iex', start, end, api_key='pk_bff04174872241fc95889d80baa8dca3')"
   ]
  },
  {
   "cell_type": "code",
   "execution_count": 3,
   "metadata": {},
   "outputs": [
    {
     "data": {
      "text/html": [
       "<div>\n",
       "<style scoped>\n",
       "    .dataframe tbody tr th:only-of-type {\n",
       "        vertical-align: middle;\n",
       "    }\n",
       "\n",
       "    .dataframe tbody tr th {\n",
       "        vertical-align: top;\n",
       "    }\n",
       "\n",
       "    .dataframe thead th {\n",
       "        text-align: right;\n",
       "    }\n",
       "</style>\n",
       "<table border=\"1\" class=\"dataframe\">\n",
       "  <thead>\n",
       "    <tr style=\"text-align: right;\">\n",
       "      <th></th>\n",
       "      <th>open</th>\n",
       "      <th>high</th>\n",
       "      <th>low</th>\n",
       "      <th>close</th>\n",
       "      <th>volume</th>\n",
       "    </tr>\n",
       "    <tr>\n",
       "      <th>date</th>\n",
       "      <th></th>\n",
       "      <th></th>\n",
       "      <th></th>\n",
       "      <th></th>\n",
       "      <th></th>\n",
       "    </tr>\n",
       "  </thead>\n",
       "  <tbody>\n",
       "    <tr>\n",
       "      <th>2019-01-18</th>\n",
       "      <td>8.39</td>\n",
       "      <td>8.60</td>\n",
       "      <td>8.33</td>\n",
       "      <td>8.58</td>\n",
       "      <td>51127860</td>\n",
       "    </tr>\n",
       "    <tr>\n",
       "      <th>2019-01-22</th>\n",
       "      <td>8.54</td>\n",
       "      <td>8.61</td>\n",
       "      <td>8.46</td>\n",
       "      <td>8.50</td>\n",
       "      <td>47182620</td>\n",
       "    </tr>\n",
       "    <tr>\n",
       "      <th>2019-01-23</th>\n",
       "      <td>8.54</td>\n",
       "      <td>8.54</td>\n",
       "      <td>8.28</td>\n",
       "      <td>8.34</td>\n",
       "      <td>45196860</td>\n",
       "    </tr>\n",
       "    <tr>\n",
       "      <th>2019-01-24</th>\n",
       "      <td>8.32</td>\n",
       "      <td>8.68</td>\n",
       "      <td>8.22</td>\n",
       "      <td>8.60</td>\n",
       "      <td>79516367</td>\n",
       "    </tr>\n",
       "    <tr>\n",
       "      <th>2019-01-25</th>\n",
       "      <td>8.74</td>\n",
       "      <td>8.96</td>\n",
       "      <td>8.73</td>\n",
       "      <td>8.86</td>\n",
       "      <td>53130148</td>\n",
       "    </tr>\n",
       "  </tbody>\n",
       "</table>\n",
       "</div>"
      ],
      "text/plain": [
       "            open  high   low  close    volume\n",
       "date                                         \n",
       "2019-01-18  8.39  8.60  8.33   8.58  51127860\n",
       "2019-01-22  8.54  8.61  8.46   8.50  47182620\n",
       "2019-01-23  8.54  8.54  8.28   8.34  45196860\n",
       "2019-01-24  8.32  8.68  8.22   8.60  79516367\n",
       "2019-01-25  8.74  8.96  8.73   8.86  53130148"
      ]
     },
     "execution_count": 3,
     "metadata": {},
     "output_type": "execute_result"
    }
   ],
   "source": [
    "f.tail()"
   ]
  },
  {
   "cell_type": "code",
   "execution_count": 4,
   "metadata": {},
   "outputs": [
    {
     "data": {
      "text/plain": [
       "<matplotlib.axes._subplots.AxesSubplot at 0x19a4b35b710>"
      ]
     },
     "execution_count": 4,
     "metadata": {},
     "output_type": "execute_result"
    }
   ],
   "source": [
    "f['close'].plot()"
   ]
  },
  {
   "cell_type": "code",
   "execution_count": 5,
   "metadata": {},
   "outputs": [],
   "source": [
    "import numpy as np"
   ]
  },
  {
   "cell_type": "markdown",
   "metadata": {},
   "source": [
    "### Простое скользящее среднее"
   ]
  },
  {
   "cell_type": "code",
   "execution_count": 6,
   "metadata": {
    "scrolled": true
   },
   "outputs": [
    {
     "data": {
      "text/plain": [
       "8.617999999999999"
      ]
     },
     "execution_count": 6,
     "metadata": {},
     "output_type": "execute_result"
    }
   ],
   "source": [
    "def moving_average(series, n):\n",
    "    return np.mean(series[-n:])\n",
    "\n",
    "\n",
    "moving_average(f['close'], 10)"
   ]
  },
  {
   "cell_type": "markdown",
   "metadata": {},
   "source": [
    "### Взвешенное среднее"
   ]
  },
  {
   "cell_type": "code",
   "execution_count": 7,
   "metadata": {},
   "outputs": [
    {
     "data": {
      "text/plain": [
       "8.7192"
      ]
     },
     "execution_count": 7,
     "metadata": {},
     "output_type": "execute_result"
    }
   ],
   "source": [
    "def weighted_average(series, weights):\n",
    "    result = 0.0\n",
    "    weights.reverse()\n",
    "    for n in range(len(weights)):\n",
    "        result += series[-n] * weights[n]\n",
    "    return result\n",
    "\n",
    "\n",
    "weighted_average(f['close'], weights=[0.25, 0.225, 0.175, 0.15, 0.1, 0.07, 0.03])"
   ]
  },
  {
   "cell_type": "markdown",
   "metadata": {},
   "source": [
    "### Экспоненциальное среднее"
   ]
  },
  {
   "cell_type": "code",
   "execution_count": 8,
   "metadata": {},
   "outputs": [
    {
     "data": {
      "text/plain": [
       "8.686343412892642"
      ]
     },
     "execution_count": 8,
     "metadata": {},
     "output_type": "execute_result"
    }
   ],
   "source": [
    "def exponential_smoothing(series, alpha):\n",
    "    result = [series[0]]  # first value is same as series\n",
    "    for n in range(1, len(series)):\n",
    "        result.append(alpha * series[n] + (1 - alpha) * result[n - 1])\n",
    "    return result\n",
    "\n",
    "exponential_smoothing(f['close'], 0.5)[-1]"
   ]
  },
  {
   "cell_type": "markdown",
   "metadata": {},
   "source": [
    "### Двойное экспоненциальное среднее"
   ]
  },
  {
   "cell_type": "code",
   "execution_count": 38,
   "metadata": {},
   "outputs": [
    {
     "data": {
      "text/plain": [
       "9.126076390483167"
      ]
     },
     "execution_count": 38,
     "metadata": {},
     "output_type": "execute_result"
    }
   ],
   "source": [
    "def double_exponential_smoothing(series, alpha, beta):\n",
    "    result = [series[0]]\n",
    "    for n in range(1, len(series) + 1):\n",
    "        if n == 1:\n",
    "            level, trend = series[0], series[1] - series[0]\n",
    "        if n >= len(series):  # прогнозируем\n",
    "            value = result[-1]\n",
    "        else:\n",
    "            value = series[n]\n",
    "        last_level = level\n",
    "        level = alpha * value + (1 - alpha) * (level + trend)\n",
    "        trend = beta * (level - last_level) + (1 - beta) * trend\n",
    "        result.append(level + trend)\n",
    "    return result\n",
    "\n",
    "double_exponential_smoothing(f['close'], 0.8, 0.5)[-1]"
   ]
  },
  {
   "cell_type": "markdown",
   "metadata": {},
   "source": [
    "### Посчитаем MSE для каждой функции"
   ]
  },
  {
   "cell_type": "code",
   "execution_count": 33,
   "metadata": {
    "scrolled": true
   },
   "outputs": [],
   "source": [
    "X = f['close'].values[:-1]\n",
    "y = f['close'][-1]"
   ]
  },
  {
   "cell_type": "code",
   "execution_count": 34,
   "metadata": {},
   "outputs": [],
   "source": [
    "from sklearn import metrics"
   ]
  },
  {
   "cell_type": "code",
   "execution_count": 40,
   "metadata": {
    "scrolled": false
   },
   "outputs": [
    {
     "data": {
      "text/plain": [
       "0.0681209999999996"
      ]
     },
     "execution_count": 40,
     "metadata": {},
     "output_type": "execute_result"
    }
   ],
   "source": [
    "metrics.mean_squared_error([y], [moving_average(X, 10)])"
   ]
  },
  {
   "cell_type": "code",
   "execution_count": 41,
   "metadata": {},
   "outputs": [
    {
     "data": {
      "text/plain": [
       "0.045795999999999414"
      ]
     },
     "execution_count": 41,
     "metadata": {},
     "output_type": "execute_result"
    }
   ],
   "source": [
    "y_pred = weighted_average(X, weights=[0.25, 0.225, 0.175, 0.15, 0.1, 0.07, 0.03])\n",
    "metrics.mean_squared_error([y], [y_pred])"
   ]
  },
  {
   "cell_type": "code",
   "execution_count": 42,
   "metadata": {},
   "outputs": [
    {
     "data": {
      "text/plain": [
       "0.12062644098310119"
      ]
     },
     "execution_count": 42,
     "metadata": {},
     "output_type": "execute_result"
    }
   ],
   "source": [
    "y_pred2 = exponential_smoothing(X, 0.5)[-1]\n",
    "metrics.mean_squared_error([y], [y_pred2])"
   ]
  },
  {
   "cell_type": "code",
   "execution_count": 43,
   "metadata": {
    "scrolled": true
   },
   "outputs": [
    {
     "data": {
      "text/plain": [
       "0.044017593840732755"
      ]
     },
     "execution_count": 43,
     "metadata": {},
     "output_type": "execute_result"
    }
   ],
   "source": [
    "y_pred3 = double_exponential_smoothing(X, 0.8, 0.5)[-1]\n",
    "metrics.mean_squared_error([y], [y_pred3])"
   ]
  },
  {
   "cell_type": "markdown",
   "metadata": {},
   "source": [
    "### Вывод\n",
    "Минимальной ошибкой обладают 2 модели: двойное экспоненциальное среднее и взвешенное среднее. Будет логично предположить, что более новые данные будут влиять на предсказание сильнее, чем более старые данные. Исходя из этого, нужно учитывать систему весов, что говорит на о неточности скользящего среднего. Помимо это двойное экспоненциальное среднее учитывает тренд изменения данных, что дает существенное преимущество над остальными моделями. "
   ]
  }
 ],
 "metadata": {
  "kernelspec": {
   "display_name": "Python 3",
   "language": "python",
   "name": "python3"
  },
  "language_info": {
   "codemirror_mode": {
    "name": "ipython",
    "version": 3
   },
   "file_extension": ".py",
   "mimetype": "text/x-python",
   "name": "python",
   "nbconvert_exporter": "python",
   "pygments_lexer": "ipython3",
   "version": "3.7.3"
  }
 },
 "nbformat": 4,
 "nbformat_minor": 2
}
