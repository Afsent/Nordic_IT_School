{
 "cells": [
  {
   "cell_type": "markdown",
   "metadata": {},
   "source": [
    "##### Задание 1. \n",
    "В зале суда есть 5 присяжных, каждый из них по отдельности с вероятностью 70% может правильно определить, виновен подсудимый или нет. С какой вероятностью они все вместе вынесут правильный вердикт, если решение принимается большинством голосов?\n",
    "\n",
    "* 70.00%\n",
    "* 83.20%\n",
    "* 83.70%\n",
    "* 87.50%\n",
    "\n",
    "Теперь перейдем непосредственно к машинному обучению."
   ]
  },
  {
   "cell_type": "markdown",
   "metadata": {},
   "source": [
    "Формула\n",
    "\n",
    "`N` - количество присяжных\n",
    "\n",
    "`p` - вероятность правильного решения присяжного\n",
    "\n",
    "`u` - вероятность правильного решения всего жюри\n",
    "\n",
    "`m` - минимальное большинство членов жюри, `m = floor(N / 2) + 1`\n",
    "\n",
    "`C(i,N)` - количество сочетаний из `N` по `i`\n",
    "\n",
    "`u = sum([C(i,N) * p**i * (1 - p)**(N - i) for i in range(m, N)])`"
   ]
  },
  {
   "cell_type": "code",
   "execution_count": 1,
   "metadata": {},
   "outputs": [
    {
     "data": {
      "application/javascript": [
       "\n",
       "            setTimeout(function() {\n",
       "                var nbb_cell_id = 1;\n",
       "                var nbb_unformatted_code = \"%load_ext nb_black\\nimport math\";\n",
       "                var nbb_formatted_code = \"%load_ext nb_black\\nimport math\";\n",
       "                var nbb_cells = Jupyter.notebook.get_cells();\n",
       "                for (var i = 0; i < nbb_cells.length; ++i) {\n",
       "                    if (nbb_cells[i].input_prompt_number == nbb_cell_id) {\n",
       "                        if (nbb_cells[i].get_text() == nbb_unformatted_code) {\n",
       "                             nbb_cells[i].set_text(nbb_formatted_code);\n",
       "                        }\n",
       "                        break;\n",
       "                    }\n",
       "                }\n",
       "            }, 500);\n",
       "            "
      ],
      "text/plain": [
       "<IPython.core.display.Javascript object>"
      ]
     },
     "metadata": {},
     "output_type": "display_data"
    }
   ],
   "source": [
    "%load_ext nb_black\n",
    "import math"
   ]
  },
  {
   "cell_type": "code",
   "execution_count": 2,
   "metadata": {},
   "outputs": [
    {
     "data": {
      "application/javascript": [
       "\n",
       "            setTimeout(function() {\n",
       "                var nbb_cell_id = 2;\n",
       "                var nbb_unformatted_code = \"def C(i, N):\\n    return math.factorial(N) / math.factorial(N - i) / math.factorial(i)\";\n",
       "                var nbb_formatted_code = \"def C(i, N):\\n    return math.factorial(N) / math.factorial(N - i) / math.factorial(i)\";\n",
       "                var nbb_cells = Jupyter.notebook.get_cells();\n",
       "                for (var i = 0; i < nbb_cells.length; ++i) {\n",
       "                    if (nbb_cells[i].input_prompt_number == nbb_cell_id) {\n",
       "                        if (nbb_cells[i].get_text() == nbb_unformatted_code) {\n",
       "                             nbb_cells[i].set_text(nbb_formatted_code);\n",
       "                        }\n",
       "                        break;\n",
       "                    }\n",
       "                }\n",
       "            }, 500);\n",
       "            "
      ],
      "text/plain": [
       "<IPython.core.display.Javascript object>"
      ]
     },
     "metadata": {},
     "output_type": "display_data"
    }
   ],
   "source": [
    "def C(i, N):\n",
    "    return math.factorial(N) / math.factorial(N - i) / math.factorial(i)"
   ]
  },
  {
   "cell_type": "code",
   "execution_count": 3,
   "metadata": {},
   "outputs": [
    {
     "data": {
      "application/javascript": [
       "\n",
       "            setTimeout(function() {\n",
       "                var nbb_cell_id = 3;\n",
       "                var nbb_unformatted_code = \"N = 5\\np = 0.7\\nm = math.floor(N / 2) + 1\";\n",
       "                var nbb_formatted_code = \"N = 5\\np = 0.7\\nm = math.floor(N / 2) + 1\";\n",
       "                var nbb_cells = Jupyter.notebook.get_cells();\n",
       "                for (var i = 0; i < nbb_cells.length; ++i) {\n",
       "                    if (nbb_cells[i].input_prompt_number == nbb_cell_id) {\n",
       "                        if (nbb_cells[i].get_text() == nbb_unformatted_code) {\n",
       "                             nbb_cells[i].set_text(nbb_formatted_code);\n",
       "                        }\n",
       "                        break;\n",
       "                    }\n",
       "                }\n",
       "            }, 500);\n",
       "            "
      ],
      "text/plain": [
       "<IPython.core.display.Javascript object>"
      ]
     },
     "metadata": {},
     "output_type": "display_data"
    }
   ],
   "source": [
    "N = 5\n",
    "p = 0.7\n",
    "m = math.floor(N / 2) + 1"
   ]
  },
  {
   "cell_type": "code",
   "execution_count": 4,
   "metadata": {},
   "outputs": [
    {
     "data": {
      "application/javascript": [
       "\n",
       "            setTimeout(function() {\n",
       "                var nbb_cell_id = 4;\n",
       "                var nbb_unformatted_code = \"u = sum([C(i, N) * p ** i * (1 - p) ** (N - i) for i in range(m, N + 1)])\";\n",
       "                var nbb_formatted_code = \"u = sum([C(i, N) * p ** i * (1 - p) ** (N - i) for i in range(m, N + 1)])\";\n",
       "                var nbb_cells = Jupyter.notebook.get_cells();\n",
       "                for (var i = 0; i < nbb_cells.length; ++i) {\n",
       "                    if (nbb_cells[i].input_prompt_number == nbb_cell_id) {\n",
       "                        if (nbb_cells[i].get_text() == nbb_unformatted_code) {\n",
       "                             nbb_cells[i].set_text(nbb_formatted_code);\n",
       "                        }\n",
       "                        break;\n",
       "                    }\n",
       "                }\n",
       "            }, 500);\n",
       "            "
      ],
      "text/plain": [
       "<IPython.core.display.Javascript object>"
      ]
     },
     "metadata": {},
     "output_type": "display_data"
    }
   ],
   "source": [
    "u = sum([C(i, N) * p ** i * (1 - p) ** (N - i) for i in range(m, N + 1)])"
   ]
  },
  {
   "cell_type": "code",
   "execution_count": 5,
   "metadata": {},
   "outputs": [
    {
     "data": {
      "text/plain": [
       "83.692"
      ]
     },
     "execution_count": 5,
     "metadata": {},
     "output_type": "execute_result"
    },
    {
     "data": {
      "application/javascript": [
       "\n",
       "            setTimeout(function() {\n",
       "                var nbb_cell_id = 5;\n",
       "                var nbb_unformatted_code = \"u * 100\";\n",
       "                var nbb_formatted_code = \"u * 100\";\n",
       "                var nbb_cells = Jupyter.notebook.get_cells();\n",
       "                for (var i = 0; i < nbb_cells.length; ++i) {\n",
       "                    if (nbb_cells[i].input_prompt_number == nbb_cell_id) {\n",
       "                        if (nbb_cells[i].get_text() == nbb_unformatted_code) {\n",
       "                             nbb_cells[i].set_text(nbb_formatted_code);\n",
       "                        }\n",
       "                        break;\n",
       "                    }\n",
       "                }\n",
       "            }, 500);\n",
       "            "
      ],
      "text/plain": [
       "<IPython.core.display.Javascript object>"
      ]
     },
     "metadata": {},
     "output_type": "display_data"
    }
   ],
   "source": [
    "u * 100"
   ]
  },
  {
   "cell_type": "markdown",
   "metadata": {},
   "source": [
    "##### Задание 2 (Опциональное задание).\n",
    "Сделайте интервальную оценку среднего возраста (age) для клиентов, которые просрочили выплату кредита, с 90% \"уверенностью\".(Использовать приложенный файл с данными)  \n",
    "(То есть нужно расчитать в каком интервале с вероятностью 90% будет лежать среднее значение возраста случайной выборки для пользователей которые просрочили кредит и нет) \n",
    "\n",
    "Данные в файле `credit_scoring_sample.csv`\n",
    "\n",
    "Данные представлены следующим образом:\n",
    "\n",
    "**Прогнозируемая переменная**\n",
    "\n",
    "SeriousDlqin2yrs – Человек не выплатил данный кредит в течение 90 дней; возможные значения 1/0\n",
    "\n",
    "**Независимые признаки**\n",
    "\n",
    "age – Возраст заёмщика кредитных средств; тип - integer  \n",
    "NumberOfTime30-59DaysPastDueNotWorse – Количество раз, когда человек имел просрочку выплаты других кредитов более 30-59 дней,  но не больше в течение последних двух лет; тип - integer  \n",
    "DebtRatio – Ежемесячный отчисления на задолжености(кредиты,алименты и т.д.) / совокупный месячный доход percentage; тип - real  \n",
    "MonthlyIncome – Месячный доход в долларах; тип - real  \n",
    "NumberOfTimes90DaysLate – Количество раз, когда человек имел просрочку выплаты других кредитов более 90 дней; тип - integer  \n",
    "NumberOfTime60-89DaysPastDueNotWorse – Количество раз, когда человек имел просрочку выплаты других кредитов более 60-89 дней,   но не больше в течение последних двух лет; тип - integer  \n",
    "NumberOfDependents – Число человек в семье кредитозаёмщика; тип - integer  "
   ]
  },
  {
   "cell_type": "code",
   "execution_count": 6,
   "metadata": {},
   "outputs": [
    {
     "data": {
      "application/javascript": [
       "\n",
       "            setTimeout(function() {\n",
       "                var nbb_cell_id = 6;\n",
       "                var nbb_unformatted_code = \"%matplotlib inline\\n\\nimport matplotlib.pyplot as plt\\nimport seaborn as sns\\nimport pandas as pd\\nimport numpy as np\";\n",
       "                var nbb_formatted_code = \"%matplotlib inline\\n\\nimport matplotlib.pyplot as plt\\nimport seaborn as sns\\nimport pandas as pd\\nimport numpy as np\";\n",
       "                var nbb_cells = Jupyter.notebook.get_cells();\n",
       "                for (var i = 0; i < nbb_cells.length; ++i) {\n",
       "                    if (nbb_cells[i].input_prompt_number == nbb_cell_id) {\n",
       "                        if (nbb_cells[i].get_text() == nbb_unformatted_code) {\n",
       "                             nbb_cells[i].set_text(nbb_formatted_code);\n",
       "                        }\n",
       "                        break;\n",
       "                    }\n",
       "                }\n",
       "            }, 500);\n",
       "            "
      ],
      "text/plain": [
       "<IPython.core.display.Javascript object>"
      ]
     },
     "metadata": {},
     "output_type": "display_data"
    }
   ],
   "source": [
    "%matplotlib inline\n",
    "\n",
    "import matplotlib.pyplot as plt\n",
    "import seaborn as sns\n",
    "import pandas as pd\n",
    "import numpy as np"
   ]
  },
  {
   "cell_type": "code",
   "execution_count": 7,
   "metadata": {
    "scrolled": false
   },
   "outputs": [
    {
     "data": {
      "text/html": [
       "<div>\n",
       "<style scoped>\n",
       "    .dataframe tbody tr th:only-of-type {\n",
       "        vertical-align: middle;\n",
       "    }\n",
       "\n",
       "    .dataframe tbody tr th {\n",
       "        vertical-align: top;\n",
       "    }\n",
       "\n",
       "    .dataframe thead th {\n",
       "        text-align: right;\n",
       "    }\n",
       "</style>\n",
       "<table border=\"1\" class=\"dataframe\">\n",
       "  <thead>\n",
       "    <tr style=\"text-align: right;\">\n",
       "      <th></th>\n",
       "      <th>SeriousDlqin2yrs</th>\n",
       "      <th>age</th>\n",
       "      <th>NumberOfTime30-59DaysPastDueNotWorse</th>\n",
       "      <th>DebtRatio</th>\n",
       "      <th>NumberOfTimes90DaysLate</th>\n",
       "      <th>NumberOfTime60-89DaysPastDueNotWorse</th>\n",
       "      <th>MonthlyIncome</th>\n",
       "      <th>NumberOfDependents</th>\n",
       "    </tr>\n",
       "  </thead>\n",
       "  <tbody>\n",
       "    <tr>\n",
       "      <th>0</th>\n",
       "      <td>0</td>\n",
       "      <td>64</td>\n",
       "      <td>0</td>\n",
       "      <td>0.249908</td>\n",
       "      <td>0</td>\n",
       "      <td>0</td>\n",
       "      <td>8158.0</td>\n",
       "      <td>0.0</td>\n",
       "    </tr>\n",
       "    <tr>\n",
       "      <th>1</th>\n",
       "      <td>0</td>\n",
       "      <td>58</td>\n",
       "      <td>0</td>\n",
       "      <td>3870.000000</td>\n",
       "      <td>0</td>\n",
       "      <td>0</td>\n",
       "      <td>NaN</td>\n",
       "      <td>0.0</td>\n",
       "    </tr>\n",
       "    <tr>\n",
       "      <th>2</th>\n",
       "      <td>0</td>\n",
       "      <td>41</td>\n",
       "      <td>0</td>\n",
       "      <td>0.456127</td>\n",
       "      <td>0</td>\n",
       "      <td>0</td>\n",
       "      <td>6666.0</td>\n",
       "      <td>0.0</td>\n",
       "    </tr>\n",
       "    <tr>\n",
       "      <th>3</th>\n",
       "      <td>0</td>\n",
       "      <td>43</td>\n",
       "      <td>0</td>\n",
       "      <td>0.000190</td>\n",
       "      <td>0</td>\n",
       "      <td>0</td>\n",
       "      <td>10500.0</td>\n",
       "      <td>2.0</td>\n",
       "    </tr>\n",
       "    <tr>\n",
       "      <th>4</th>\n",
       "      <td>1</td>\n",
       "      <td>49</td>\n",
       "      <td>0</td>\n",
       "      <td>0.271820</td>\n",
       "      <td>0</td>\n",
       "      <td>0</td>\n",
       "      <td>400.0</td>\n",
       "      <td>0.0</td>\n",
       "    </tr>\n",
       "  </tbody>\n",
       "</table>\n",
       "</div>"
      ],
      "text/plain": [
       "   SeriousDlqin2yrs  age  NumberOfTime30-59DaysPastDueNotWorse    DebtRatio  \\\n",
       "0                 0   64                                     0     0.249908   \n",
       "1                 0   58                                     0  3870.000000   \n",
       "2                 0   41                                     0     0.456127   \n",
       "3                 0   43                                     0     0.000190   \n",
       "4                 1   49                                     0     0.271820   \n",
       "\n",
       "   NumberOfTimes90DaysLate  NumberOfTime60-89DaysPastDueNotWorse  \\\n",
       "0                        0                                     0   \n",
       "1                        0                                     0   \n",
       "2                        0                                     0   \n",
       "3                        0                                     0   \n",
       "4                        0                                     0   \n",
       "\n",
       "   MonthlyIncome  NumberOfDependents  \n",
       "0         8158.0                 0.0  \n",
       "1            NaN                 0.0  \n",
       "2         6666.0                 0.0  \n",
       "3        10500.0                 2.0  \n",
       "4          400.0                 0.0  "
      ]
     },
     "execution_count": 7,
     "metadata": {},
     "output_type": "execute_result"
    },
    {
     "data": {
      "application/javascript": [
       "\n",
       "            setTimeout(function() {\n",
       "                var nbb_cell_id = 7;\n",
       "                var nbb_unformatted_code = \"df = pd.read_csv(\\\"credit_scoring_sample.csv\\\", sep=\\\";\\\")\\ndf.head()\";\n",
       "                var nbb_formatted_code = \"df = pd.read_csv(\\\"credit_scoring_sample.csv\\\", sep=\\\";\\\")\\ndf.head()\";\n",
       "                var nbb_cells = Jupyter.notebook.get_cells();\n",
       "                for (var i = 0; i < nbb_cells.length; ++i) {\n",
       "                    if (nbb_cells[i].input_prompt_number == nbb_cell_id) {\n",
       "                        if (nbb_cells[i].get_text() == nbb_unformatted_code) {\n",
       "                             nbb_cells[i].set_text(nbb_formatted_code);\n",
       "                        }\n",
       "                        break;\n",
       "                    }\n",
       "                }\n",
       "            }, 500);\n",
       "            "
      ],
      "text/plain": [
       "<IPython.core.display.Javascript object>"
      ]
     },
     "metadata": {},
     "output_type": "display_data"
    }
   ],
   "source": [
    "df = pd.read_csv(\"credit_scoring_sample.csv\", sep=\";\")\n",
    "df.head()"
   ]
  },
  {
   "cell_type": "code",
   "execution_count": 8,
   "metadata": {},
   "outputs": [
    {
     "data": {
      "text/plain": [
       "(45063, 8)"
      ]
     },
     "execution_count": 8,
     "metadata": {},
     "output_type": "execute_result"
    },
    {
     "data": {
      "application/javascript": [
       "\n",
       "            setTimeout(function() {\n",
       "                var nbb_cell_id = 8;\n",
       "                var nbb_unformatted_code = \"df.shape\";\n",
       "                var nbb_formatted_code = \"df.shape\";\n",
       "                var nbb_cells = Jupyter.notebook.get_cells();\n",
       "                for (var i = 0; i < nbb_cells.length; ++i) {\n",
       "                    if (nbb_cells[i].input_prompt_number == nbb_cell_id) {\n",
       "                        if (nbb_cells[i].get_text() == nbb_unformatted_code) {\n",
       "                             nbb_cells[i].set_text(nbb_formatted_code);\n",
       "                        }\n",
       "                        break;\n",
       "                    }\n",
       "                }\n",
       "            }, 500);\n",
       "            "
      ],
      "text/plain": [
       "<IPython.core.display.Javascript object>"
      ]
     },
     "metadata": {},
     "output_type": "display_data"
    }
   ],
   "source": [
    "df.shape"
   ]
  },
  {
   "cell_type": "code",
   "execution_count": 9,
   "metadata": {},
   "outputs": [
    {
     "name": "stdout",
     "output_type": "stream",
     "text": [
      "<class 'pandas.core.frame.DataFrame'>\n",
      "RangeIndex: 45063 entries, 0 to 45062\n",
      "Data columns (total 8 columns):\n",
      "SeriousDlqin2yrs                        45063 non-null int64\n",
      "age                                     45063 non-null int64\n",
      "NumberOfTime30-59DaysPastDueNotWorse    45063 non-null int64\n",
      "DebtRatio                               45063 non-null float64\n",
      "NumberOfTimes90DaysLate                 45063 non-null int64\n",
      "NumberOfTime60-89DaysPastDueNotWorse    45063 non-null int64\n",
      "MonthlyIncome                           36420 non-null float64\n",
      "NumberOfDependents                      43946 non-null float64\n",
      "dtypes: float64(3), int64(5)\n",
      "memory usage: 2.8 MB\n"
     ]
    },
    {
     "data": {
      "application/javascript": [
       "\n",
       "            setTimeout(function() {\n",
       "                var nbb_cell_id = 9;\n",
       "                var nbb_unformatted_code = \"df.info()\";\n",
       "                var nbb_formatted_code = \"df.info()\";\n",
       "                var nbb_cells = Jupyter.notebook.get_cells();\n",
       "                for (var i = 0; i < nbb_cells.length; ++i) {\n",
       "                    if (nbb_cells[i].input_prompt_number == nbb_cell_id) {\n",
       "                        if (nbb_cells[i].get_text() == nbb_unformatted_code) {\n",
       "                             nbb_cells[i].set_text(nbb_formatted_code);\n",
       "                        }\n",
       "                        break;\n",
       "                    }\n",
       "                }\n",
       "            }, 500);\n",
       "            "
      ],
      "text/plain": [
       "<IPython.core.display.Javascript object>"
      ]
     },
     "metadata": {},
     "output_type": "display_data"
    }
   ],
   "source": [
    "df.info()"
   ]
  },
  {
   "cell_type": "code",
   "execution_count": 10,
   "metadata": {
    "scrolled": true
   },
   "outputs": [
    {
     "data": {
      "text/html": [
       "<div>\n",
       "<style scoped>\n",
       "    .dataframe tbody tr th:only-of-type {\n",
       "        vertical-align: middle;\n",
       "    }\n",
       "\n",
       "    .dataframe tbody tr th {\n",
       "        vertical-align: top;\n",
       "    }\n",
       "\n",
       "    .dataframe thead th {\n",
       "        text-align: right;\n",
       "    }\n",
       "</style>\n",
       "<table border=\"1\" class=\"dataframe\">\n",
       "  <thead>\n",
       "    <tr style=\"text-align: right;\">\n",
       "      <th></th>\n",
       "      <th>SeriousDlqin2yrs</th>\n",
       "      <th>age</th>\n",
       "      <th>NumberOfTime30-59DaysPastDueNotWorse</th>\n",
       "      <th>DebtRatio</th>\n",
       "      <th>NumberOfTimes90DaysLate</th>\n",
       "      <th>NumberOfTime60-89DaysPastDueNotWorse</th>\n",
       "      <th>MonthlyIncome</th>\n",
       "      <th>NumberOfDependents</th>\n",
       "    </tr>\n",
       "  </thead>\n",
       "  <tbody>\n",
       "    <tr>\n",
       "      <th>count</th>\n",
       "      <td>45063.000000</td>\n",
       "      <td>45063.000000</td>\n",
       "      <td>45063.000000</td>\n",
       "      <td>45063.000000</td>\n",
       "      <td>45063.000000</td>\n",
       "      <td>45063.000000</td>\n",
       "      <td>3.642000e+04</td>\n",
       "      <td>43946.000000</td>\n",
       "    </tr>\n",
       "    <tr>\n",
       "      <th>mean</th>\n",
       "      <td>0.222489</td>\n",
       "      <td>51.210949</td>\n",
       "      <td>0.750993</td>\n",
       "      <td>352.062688</td>\n",
       "      <td>0.570712</td>\n",
       "      <td>0.505870</td>\n",
       "      <td>6.452263e+03</td>\n",
       "      <td>0.789628</td>\n",
       "    </tr>\n",
       "    <tr>\n",
       "      <th>std</th>\n",
       "      <td>0.415922</td>\n",
       "      <td>14.651533</td>\n",
       "      <td>6.184521</td>\n",
       "      <td>2467.556358</td>\n",
       "      <td>6.173106</td>\n",
       "      <td>6.153609</td>\n",
       "      <td>1.263817e+04</td>\n",
       "      <td>1.130813</td>\n",
       "    </tr>\n",
       "    <tr>\n",
       "      <th>min</th>\n",
       "      <td>0.000000</td>\n",
       "      <td>21.000000</td>\n",
       "      <td>0.000000</td>\n",
       "      <td>0.000000</td>\n",
       "      <td>0.000000</td>\n",
       "      <td>0.000000</td>\n",
       "      <td>0.000000e+00</td>\n",
       "      <td>0.000000</td>\n",
       "    </tr>\n",
       "    <tr>\n",
       "      <th>25%</th>\n",
       "      <td>0.000000</td>\n",
       "      <td>40.000000</td>\n",
       "      <td>0.000000</td>\n",
       "      <td>0.176373</td>\n",
       "      <td>0.000000</td>\n",
       "      <td>0.000000</td>\n",
       "      <td>3.286000e+03</td>\n",
       "      <td>0.000000</td>\n",
       "    </tr>\n",
       "    <tr>\n",
       "      <th>50%</th>\n",
       "      <td>0.000000</td>\n",
       "      <td>51.000000</td>\n",
       "      <td>0.000000</td>\n",
       "      <td>0.373949</td>\n",
       "      <td>0.000000</td>\n",
       "      <td>0.000000</td>\n",
       "      <td>5.166000e+03</td>\n",
       "      <td>0.000000</td>\n",
       "    </tr>\n",
       "    <tr>\n",
       "      <th>75%</th>\n",
       "      <td>0.000000</td>\n",
       "      <td>62.000000</td>\n",
       "      <td>0.000000</td>\n",
       "      <td>0.857027</td>\n",
       "      <td>0.000000</td>\n",
       "      <td>0.000000</td>\n",
       "      <td>8.000000e+03</td>\n",
       "      <td>1.000000</td>\n",
       "    </tr>\n",
       "    <tr>\n",
       "      <th>max</th>\n",
       "      <td>1.000000</td>\n",
       "      <td>107.000000</td>\n",
       "      <td>98.000000</td>\n",
       "      <td>326442.000000</td>\n",
       "      <td>98.000000</td>\n",
       "      <td>98.000000</td>\n",
       "      <td>1.794060e+06</td>\n",
       "      <td>10.000000</td>\n",
       "    </tr>\n",
       "  </tbody>\n",
       "</table>\n",
       "</div>"
      ],
      "text/plain": [
       "       SeriousDlqin2yrs           age  NumberOfTime30-59DaysPastDueNotWorse  \\\n",
       "count      45063.000000  45063.000000                          45063.000000   \n",
       "mean           0.222489     51.210949                              0.750993   \n",
       "std            0.415922     14.651533                              6.184521   \n",
       "min            0.000000     21.000000                              0.000000   \n",
       "25%            0.000000     40.000000                              0.000000   \n",
       "50%            0.000000     51.000000                              0.000000   \n",
       "75%            0.000000     62.000000                              0.000000   \n",
       "max            1.000000    107.000000                             98.000000   \n",
       "\n",
       "           DebtRatio  NumberOfTimes90DaysLate  \\\n",
       "count   45063.000000             45063.000000   \n",
       "mean      352.062688                 0.570712   \n",
       "std      2467.556358                 6.173106   \n",
       "min         0.000000                 0.000000   \n",
       "25%         0.176373                 0.000000   \n",
       "50%         0.373949                 0.000000   \n",
       "75%         0.857027                 0.000000   \n",
       "max    326442.000000                98.000000   \n",
       "\n",
       "       NumberOfTime60-89DaysPastDueNotWorse  MonthlyIncome  NumberOfDependents  \n",
       "count                          45063.000000   3.642000e+04        43946.000000  \n",
       "mean                               0.505870   6.452263e+03            0.789628  \n",
       "std                                6.153609   1.263817e+04            1.130813  \n",
       "min                                0.000000   0.000000e+00            0.000000  \n",
       "25%                                0.000000   3.286000e+03            0.000000  \n",
       "50%                                0.000000   5.166000e+03            0.000000  \n",
       "75%                                0.000000   8.000000e+03            1.000000  \n",
       "max                               98.000000   1.794060e+06           10.000000  "
      ]
     },
     "execution_count": 10,
     "metadata": {},
     "output_type": "execute_result"
    },
    {
     "data": {
      "application/javascript": [
       "\n",
       "            setTimeout(function() {\n",
       "                var nbb_cell_id = 10;\n",
       "                var nbb_unformatted_code = \"df.describe()\";\n",
       "                var nbb_formatted_code = \"df.describe()\";\n",
       "                var nbb_cells = Jupyter.notebook.get_cells();\n",
       "                for (var i = 0; i < nbb_cells.length; ++i) {\n",
       "                    if (nbb_cells[i].input_prompt_number == nbb_cell_id) {\n",
       "                        if (nbb_cells[i].get_text() == nbb_unformatted_code) {\n",
       "                             nbb_cells[i].set_text(nbb_formatted_code);\n",
       "                        }\n",
       "                        break;\n",
       "                    }\n",
       "                }\n",
       "            }, 500);\n",
       "            "
      ],
      "text/plain": [
       "<IPython.core.display.Javascript object>"
      ]
     },
     "metadata": {},
     "output_type": "display_data"
    }
   ],
   "source": [
    "df.describe()"
   ]
  },
  {
   "cell_type": "code",
   "execution_count": 11,
   "metadata": {},
   "outputs": [
    {
     "data": {
      "text/plain": [
       "(36420, 8)"
      ]
     },
     "execution_count": 11,
     "metadata": {},
     "output_type": "execute_result"
    },
    {
     "data": {
      "application/javascript": [
       "\n",
       "            setTimeout(function() {\n",
       "                var nbb_cell_id = 11;\n",
       "                var nbb_unformatted_code = \"df_clean = df.dropna()\\ndf_clean.shape\";\n",
       "                var nbb_formatted_code = \"df_clean = df.dropna()\\ndf_clean.shape\";\n",
       "                var nbb_cells = Jupyter.notebook.get_cells();\n",
       "                for (var i = 0; i < nbb_cells.length; ++i) {\n",
       "                    if (nbb_cells[i].input_prompt_number == nbb_cell_id) {\n",
       "                        if (nbb_cells[i].get_text() == nbb_unformatted_code) {\n",
       "                             nbb_cells[i].set_text(nbb_formatted_code);\n",
       "                        }\n",
       "                        break;\n",
       "                    }\n",
       "                }\n",
       "            }, 500);\n",
       "            "
      ],
      "text/plain": [
       "<IPython.core.display.Javascript object>"
      ]
     },
     "metadata": {},
     "output_type": "display_data"
    }
   ],
   "source": [
    "df_clean = df.dropna()\n",
    "df_clean.shape"
   ]
  },
  {
   "cell_type": "markdown",
   "metadata": {},
   "source": [
    "Для расчета, необходимо:\n",
    "\n",
    "1) Найти 5000 случайных выборок возраста пользователей которые выплатили кредит и не выплатили(2 цифры)\n",
    "\n",
    "2) Найти средние данных выборок(5000 средних для пользователей, которые выплатили и 5000 для пользователей, которые не выплатили)\n",
    "\n",
    "3) Посчитать интервал в котором лежат 90% средних(должно получиться 2 интервала)"
   ]
  },
  {
   "cell_type": "code",
   "execution_count": 12,
   "metadata": {},
   "outputs": [
    {
     "data": {
      "image/png": "[encoded data removed]",
      "text/plain": [
       "<Figure size 432x288 with 1 Axes>"
      ]
     },
     "metadata": {
      "needs_background": "light"
     },
     "output_type": "display_data"
    },
    {
     "data": {
      "application/javascript": [
       "\n",
       "            setTimeout(function() {\n",
       "                var nbb_cell_id = 12;\n",
       "                var nbb_unformatted_code = \"sns.distplot(df_clean[\\\"SeriousDlqin2yrs\\\"], bins=10, kde=False)\\nplt.show()\";\n",
       "                var nbb_formatted_code = \"sns.distplot(df_clean[\\\"SeriousDlqin2yrs\\\"], bins=10, kde=False)\\nplt.show()\";\n",
       "                var nbb_cells = Jupyter.notebook.get_cells();\n",
       "                for (var i = 0; i < nbb_cells.length; ++i) {\n",
       "                    if (nbb_cells[i].input_prompt_number == nbb_cell_id) {\n",
       "                        if (nbb_cells[i].get_text() == nbb_unformatted_code) {\n",
       "                             nbb_cells[i].set_text(nbb_formatted_code);\n",
       "                        }\n",
       "                        break;\n",
       "                    }\n",
       "                }\n",
       "            }, 500);\n",
       "            "
      ],
      "text/plain": [
       "<IPython.core.display.Javascript object>"
      ]
     },
     "metadata": {},
     "output_type": "display_data"
    }
   ],
   "source": [
    "sns.distplot(df_clean[\"SeriousDlqin2yrs\"], bins=10, kde=False)\n",
    "plt.show()"
   ]
  },
  {
   "cell_type": "code",
   "execution_count": 13,
   "metadata": {},
   "outputs": [
    {
     "data": {
      "application/javascript": [
       "\n",
       "            setTimeout(function() {\n",
       "                var nbb_cell_id = 13;\n",
       "                var nbb_unformatted_code = \"def get_bootstrap_samples(data, n_samples):\\n    indices = np.random.randint(0, len(data), n_samples)\\n    samples = data[indices]\\n    return samples\";\n",
       "                var nbb_formatted_code = \"def get_bootstrap_samples(data, n_samples):\\n    indices = np.random.randint(0, len(data), n_samples)\\n    samples = data[indices]\\n    return samples\";\n",
       "                var nbb_cells = Jupyter.notebook.get_cells();\n",
       "                for (var i = 0; i < nbb_cells.length; ++i) {\n",
       "                    if (nbb_cells[i].input_prompt_number == nbb_cell_id) {\n",
       "                        if (nbb_cells[i].get_text() == nbb_unformatted_code) {\n",
       "                             nbb_cells[i].set_text(nbb_formatted_code);\n",
       "                        }\n",
       "                        break;\n",
       "                    }\n",
       "                }\n",
       "            }, 500);\n",
       "            "
      ],
      "text/plain": [
       "<IPython.core.display.Javascript object>"
      ]
     },
     "metadata": {},
     "output_type": "display_data"
    }
   ],
   "source": [
    "def get_bootstrap_samples(data, n_samples):\n",
    "    indices = np.random.randint(0, len(data), n_samples)\n",
    "    samples = data[indices]\n",
    "    return samples"
   ]
  },
  {
   "cell_type": "code",
   "execution_count": 14,
   "metadata": {},
   "outputs": [
    {
     "data": {
      "application/javascript": [
       "\n",
       "            setTimeout(function() {\n",
       "                var nbb_cell_id = 14;\n",
       "                var nbb_unformatted_code = \"debtors = df_clean[df_clean[\\\"SeriousDlqin2yrs\\\"] == 1].age\\npaid = df_clean[df_clean[\\\"SeriousDlqin2yrs\\\"] == 0].age\";\n",
       "                var nbb_formatted_code = \"debtors = df_clean[df_clean[\\\"SeriousDlqin2yrs\\\"] == 1].age\\npaid = df_clean[df_clean[\\\"SeriousDlqin2yrs\\\"] == 0].age\";\n",
       "                var nbb_cells = Jupyter.notebook.get_cells();\n",
       "                for (var i = 0; i < nbb_cells.length; ++i) {\n",
       "                    if (nbb_cells[i].input_prompt_number == nbb_cell_id) {\n",
       "                        if (nbb_cells[i].get_text() == nbb_unformatted_code) {\n",
       "                             nbb_cells[i].set_text(nbb_formatted_code);\n",
       "                        }\n",
       "                        break;\n",
       "                    }\n",
       "                }\n",
       "            }, 500);\n",
       "            "
      ],
      "text/plain": [
       "<IPython.core.display.Javascript object>"
      ]
     },
     "metadata": {},
     "output_type": "display_data"
    }
   ],
   "source": [
    "debtors = df_clean[df_clean[\"SeriousDlqin2yrs\"] == 1].age\n",
    "paid = df_clean[df_clean[\"SeriousDlqin2yrs\"] == 0].age"
   ]
  },
  {
   "cell_type": "code",
   "execution_count": 15,
   "metadata": {},
   "outputs": [
    {
     "data": {
      "application/javascript": [
       "\n",
       "            setTimeout(function() {\n",
       "                var nbb_cell_id = 15;\n",
       "                var nbb_unformatted_code = \"def get_samples(data, n, n_samples):\\n    samples = []\\n    for i in range(n):\\n        sample = [item for item in get_bootstrap_samples(data, n_samples)]\\n        samples.append(sample)\\n    return samples\";\n",
       "                var nbb_formatted_code = \"def get_samples(data, n, n_samples):\\n    samples = []\\n    for i in range(n):\\n        sample = [item for item in get_bootstrap_samples(data, n_samples)]\\n        samples.append(sample)\\n    return samples\";\n",
       "                var nbb_cells = Jupyter.notebook.get_cells();\n",
       "                for (var i = 0; i < nbb_cells.length; ++i) {\n",
       "                    if (nbb_cells[i].input_prompt_number == nbb_cell_id) {\n",
       "                        if (nbb_cells[i].get_text() == nbb_unformatted_code) {\n",
       "                             nbb_cells[i].set_text(nbb_formatted_code);\n",
       "                        }\n",
       "                        break;\n",
       "                    }\n",
       "                }\n",
       "            }, 500);\n",
       "            "
      ],
      "text/plain": [
       "<IPython.core.display.Javascript object>"
      ]
     },
     "metadata": {},
     "output_type": "display_data"
    }
   ],
   "source": [
    "def get_samples(data, n, n_samples):\n",
    "    samples = []\n",
    "    for i in range(n):\n",
    "        sample = [item for item in get_bootstrap_samples(data, n_samples)]\n",
    "        samples.append(sample)\n",
    "    return samples"
   ]
  },
  {
   "cell_type": "code",
   "execution_count": 16,
   "metadata": {},
   "outputs": [
    {
     "data": {
      "text/plain": [
       "8357"
      ]
     },
     "execution_count": 16,
     "metadata": {},
     "output_type": "execute_result"
    },
    {
     "data": {
      "application/javascript": [
       "\n",
       "            setTimeout(function() {\n",
       "                var nbb_cell_id = 16;\n",
       "                var nbb_unformatted_code = \"len(debtors)\";\n",
       "                var nbb_formatted_code = \"len(debtors)\";\n",
       "                var nbb_cells = Jupyter.notebook.get_cells();\n",
       "                for (var i = 0; i < nbb_cells.length; ++i) {\n",
       "                    if (nbb_cells[i].input_prompt_number == nbb_cell_id) {\n",
       "                        if (nbb_cells[i].get_text() == nbb_unformatted_code) {\n",
       "                             nbb_cells[i].set_text(nbb_formatted_code);\n",
       "                        }\n",
       "                        break;\n",
       "                    }\n",
       "                }\n",
       "            }, 500);\n",
       "            "
      ],
      "text/plain": [
       "<IPython.core.display.Javascript object>"
      ]
     },
     "metadata": {},
     "output_type": "display_data"
    }
   ],
   "source": [
    "len(debtors)"
   ]
  },
  {
   "cell_type": "code",
   "execution_count": 17,
   "metadata": {},
   "outputs": [
    {
     "data": {
      "application/javascript": [
       "\n",
       "            setTimeout(function() {\n",
       "                var nbb_cell_id = 17;\n",
       "                var nbb_unformatted_code = \"debtors_samples = get_samples(debtors.values, 5000, int(debtors.shape[0] // 1.5))\";\n",
       "                var nbb_formatted_code = \"debtors_samples = get_samples(debtors.values, 5000, int(debtors.shape[0] // 1.5))\";\n",
       "                var nbb_cells = Jupyter.notebook.get_cells();\n",
       "                for (var i = 0; i < nbb_cells.length; ++i) {\n",
       "                    if (nbb_cells[i].input_prompt_number == nbb_cell_id) {\n",
       "                        if (nbb_cells[i].get_text() == nbb_unformatted_code) {\n",
       "                             nbb_cells[i].set_text(nbb_formatted_code);\n",
       "                        }\n",
       "                        break;\n",
       "                    }\n",
       "                }\n",
       "            }, 500);\n",
       "            "
      ],
      "text/plain": [
       "<IPython.core.display.Javascript object>"
      ]
     },
     "metadata": {},
     "output_type": "display_data"
    }
   ],
   "source": [
    "debtors_samples = get_samples(debtors.values, 5000, int(debtors.shape[0] // 1.5))"
   ]
  },
  {
   "cell_type": "code",
   "execution_count": 18,
   "metadata": {},
   "outputs": [
    {
     "data": {
      "application/javascript": [
       "\n",
       "            setTimeout(function() {\n",
       "                var nbb_cell_id = 18;\n",
       "                var nbb_unformatted_code = \"paid_samples = get_samples(paid.values, 5000, int(paid.shape[0] // 1.5))\";\n",
       "                var nbb_formatted_code = \"paid_samples = get_samples(paid.values, 5000, int(paid.shape[0] // 1.5))\";\n",
       "                var nbb_cells = Jupyter.notebook.get_cells();\n",
       "                for (var i = 0; i < nbb_cells.length; ++i) {\n",
       "                    if (nbb_cells[i].input_prompt_number == nbb_cell_id) {\n",
       "                        if (nbb_cells[i].get_text() == nbb_unformatted_code) {\n",
       "                             nbb_cells[i].set_text(nbb_formatted_code);\n",
       "                        }\n",
       "                        break;\n",
       "                    }\n",
       "                }\n",
       "            }, 500);\n",
       "            "
      ],
      "text/plain": [
       "<IPython.core.display.Javascript object>"
      ]
     },
     "metadata": {},
     "output_type": "display_data"
    }
   ],
   "source": [
    "paid_samples = get_samples(paid.values, 5000, int(paid.shape[0] // 1.5))"
   ]
  },
  {
   "cell_type": "code",
   "execution_count": 19,
   "metadata": {},
   "outputs": [
    {
     "data": {
      "application/javascript": [
       "\n",
       "            setTimeout(function() {\n",
       "                var nbb_cell_id = 19;\n",
       "                var nbb_unformatted_code = \"debtors_mean = [np.mean(i) for i in debtors_samples]\";\n",
       "                var nbb_formatted_code = \"debtors_mean = [np.mean(i) for i in debtors_samples]\";\n",
       "                var nbb_cells = Jupyter.notebook.get_cells();\n",
       "                for (var i = 0; i < nbb_cells.length; ++i) {\n",
       "                    if (nbb_cells[i].input_prompt_number == nbb_cell_id) {\n",
       "                        if (nbb_cells[i].get_text() == nbb_unformatted_code) {\n",
       "                             nbb_cells[i].set_text(nbb_formatted_code);\n",
       "                        }\n",
       "                        break;\n",
       "                    }\n",
       "                }\n",
       "            }, 500);\n",
       "            "
      ],
      "text/plain": [
       "<IPython.core.display.Javascript object>"
      ]
     },
     "metadata": {},
     "output_type": "display_data"
    }
   ],
   "source": [
    "debtors_mean = [np.mean(i) for i in debtors_samples]"
   ]
  },
  {
   "cell_type": "code",
   "execution_count": 20,
   "metadata": {},
   "outputs": [
    {
     "data": {
      "application/javascript": [
       "\n",
       "            setTimeout(function() {\n",
       "                var nbb_cell_id = 20;\n",
       "                var nbb_unformatted_code = \"paid_mean = [np.mean(i) for i in paid_samples]\";\n",
       "                var nbb_formatted_code = \"paid_mean = [np.mean(i) for i in paid_samples]\";\n",
       "                var nbb_cells = Jupyter.notebook.get_cells();\n",
       "                for (var i = 0; i < nbb_cells.length; ++i) {\n",
       "                    if (nbb_cells[i].input_prompt_number == nbb_cell_id) {\n",
       "                        if (nbb_cells[i].get_text() == nbb_unformatted_code) {\n",
       "                             nbb_cells[i].set_text(nbb_formatted_code);\n",
       "                        }\n",
       "                        break;\n",
       "                    }\n",
       "                }\n",
       "            }, 500);\n",
       "            "
      ],
      "text/plain": [
       "<IPython.core.display.Javascript object>"
      ]
     },
     "metadata": {},
     "output_type": "display_data"
    }
   ],
   "source": [
    "paid_mean = [np.mean(i) for i in paid_samples]"
   ]
  },
  {
   "cell_type": "code",
   "execution_count": 21,
   "metadata": {
    "scrolled": true
   },
   "outputs": [
    {
     "data": {
      "text/plain": [
       "array([45.091725  , 46.08976844])"
      ]
     },
     "execution_count": 21,
     "metadata": {},
     "output_type": "execute_result"
    },
    {
     "data": {
      "application/javascript": [
       "\n",
       "            setTimeout(function() {\n",
       "                var nbb_cell_id = 21;\n",
       "                var nbb_unformatted_code = \"np.percentile(debtors_mean, [0, 90])\";\n",
       "                var nbb_formatted_code = \"np.percentile(debtors_mean, [0, 90])\";\n",
       "                var nbb_cells = Jupyter.notebook.get_cells();\n",
       "                for (var i = 0; i < nbb_cells.length; ++i) {\n",
       "                    if (nbb_cells[i].input_prompt_number == nbb_cell_id) {\n",
       "                        if (nbb_cells[i].get_text() == nbb_unformatted_code) {\n",
       "                             nbb_cells[i].set_text(nbb_formatted_code);\n",
       "                        }\n",
       "                        break;\n",
       "                    }\n",
       "                }\n",
       "            }, 500);\n",
       "            "
      ],
      "text/plain": [
       "<IPython.core.display.Javascript object>"
      ]
     },
     "metadata": {},
     "output_type": "display_data"
    }
   ],
   "source": [
    "np.percentile(debtors_mean, [0, 90])"
   ]
  },
  {
   "cell_type": "code",
   "execution_count": 22,
   "metadata": {},
   "outputs": [
    {
     "data": {
      "text/plain": [
       "array([51.24449433, 51.74957772])"
      ]
     },
     "execution_count": 22,
     "metadata": {},
     "output_type": "execute_result"
    },
    {
     "data": {
      "application/javascript": [
       "\n",
       "            setTimeout(function() {\n",
       "                var nbb_cell_id = 22;\n",
       "                var nbb_unformatted_code = \"np.percentile(paid_mean, [0, 90])\";\n",
       "                var nbb_formatted_code = \"np.percentile(paid_mean, [0, 90])\";\n",
       "                var nbb_cells = Jupyter.notebook.get_cells();\n",
       "                for (var i = 0; i < nbb_cells.length; ++i) {\n",
       "                    if (nbb_cells[i].input_prompt_number == nbb_cell_id) {\n",
       "                        if (nbb_cells[i].get_text() == nbb_unformatted_code) {\n",
       "                             nbb_cells[i].set_text(nbb_formatted_code);\n",
       "                        }\n",
       "                        break;\n",
       "                    }\n",
       "                }\n",
       "            }, 500);\n",
       "            "
      ],
      "text/plain": [
       "<IPython.core.display.Javascript object>"
      ]
     },
     "metadata": {},
     "output_type": "display_data"
    }
   ],
   "source": [
    "np.percentile(paid_mean, [0, 90])"
   ]
  },
  {
   "cell_type": "markdown",
   "metadata": {},
   "source": [
    "##### Задание 3.\n",
    "\n",
    "Подберите оптимальные параметры доли сэмпла и количества деревьев для минимизации MSE.\n",
    "\n",
    "Ниже приведен код, написанный на занятии. Вам необходимо подобрать с помощью циклов и/или массивов оптимальные параметры для указанных переменных. В классном занятии доля сэмпла была 2/3 (мы делили на 1.5). А количество деревьев - 10"
   ]
  },
  {
   "cell_type": "code",
   "execution_count": 24,
   "metadata": {},
   "outputs": [
    {
     "data": {
      "text/plain": [
       "Text(0.5, 1.0, 'Bagging of decision trees, MSE = 14.75')"
      ]
     },
     "execution_count": 24,
     "metadata": {},
     "output_type": "execute_result"
    },
    {
     "data": {
      "image/png": "[encoded data removed]",
      "text/plain": [
       "<Figure size 720x432 with 1 Axes>"
      ]
     },
     "metadata": {
      "needs_background": "light"
     },
     "output_type": "display_data"
    },
    {
     "data": {
      "application/javascript": [
       "\n",
       "            setTimeout(function() {\n",
       "                var nbb_cell_id = 24;\n",
       "                var nbb_unformatted_code = \"import numpy as np\\n\\nimport warnings\\n\\nwarnings.filterwarnings(\\\"ignore\\\")\\nnp.random.seed(42)\\nfrom sklearn.ensemble import (\\n    RandomForestRegressor,\\n    RandomForestClassifier,\\n    BaggingRegressor,\\n)\\nfrom sklearn.tree import DecisionTreeRegressor, DecisionTreeClassifier\\nimport matplotlib.pyplot as plt\\n\\n%matplotlib inline\\n\\n# Generate data\\nnp.random.seed(42)\\n\\nn_train = 150\\nn_test = 1000\\nnoise = 0.1\\n\\n# Generate data\\ndef f(x):\\n    x = x.ravel()\\n    return np.exp(-(x ** 2)) + 1.5 * np.exp(-((x - 2) ** 2))\\n\\n\\ndef generate(n_samples, noise):\\n    X = np.random.rand(n_samples) * 10 - 5\\n    X = np.sort(X).ravel()\\n    y = (\\n        np.exp(-(X ** 2))\\n        + 1.5 * np.exp(-((X - 2) ** 2))\\n        + np.random.normal(0.0, noise, n_samples)\\n    )\\n    X = X.reshape((n_samples, 1))\\n    return X, y\\n\\n\\nX_train, y_train = generate(n_samples=n_train, noise=noise)\\nX_test, y_test = generate(n_samples=n_test, noise=noise)\\n\\n\\ndef get_bootstrap_samples(data, n_samples):\\n    indices = np.random.randint(0, len(data), n_samples)\\n    samples = data[indices]\\n    return samples\\n\\n\\ndtrees_bagging = []\\n\\n\\ndef bagging_fit(X, y, n_trees=10, samples_share=1.5):\\n    dtrees_bagging.clear()\\n    full_X_y = np.array(list(zip(np.array(X)[:, 0], y)))\\n    for t in range(n_trees):\\n        samp_X_y = get_bootstrap_samples(full_X_y, int(len(full_X_y) / samples_share))\\n        X_new = samp_X_y[:, 0].reshape((len(samp_X_y), 1))\\n        y_new = samp_X_y[:, 1]\\n        dtrees_bagging.append(DecisionTreeRegressor().fit(X_new, y_new))\\n\\n\\ndef bagging_predict(X):\\n    d_predicts = []\\n    for dtree in dtrees_bagging:\\n        d_predicts.append(dtree.predict(X))\\n    d_predicts = np.array(d_predicts)\\n    return np.mean(d_predicts, axis=0)\\n\\n\\nbagging_fit(X_train, y_train)\\nbdt_predict = bagging_predict(X_test)\\n\\nplt.figure(figsize=(10, 6))\\nplt.plot(X_test, f(X_test), \\\"b\\\")\\nplt.scatter(X_train, y_train, c=\\\"b\\\", s=20)\\nplt.plot(X_test, bdt_predict, \\\"y\\\", lw=2)\\nplt.xlim([-5, 5])\\nplt.title(\\\"Bagging of decision trees, MSE = %.2f\\\" % np.sum((y_test - bdt_predict) ** 2))\";\n",
       "                var nbb_formatted_code = \"import numpy as np\\n\\nimport warnings\\n\\nwarnings.filterwarnings(\\\"ignore\\\")\\nnp.random.seed(42)\\nfrom sklearn.ensemble import (\\n    RandomForestRegressor,\\n    RandomForestClassifier,\\n    BaggingRegressor,\\n)\\nfrom sklearn.tree import DecisionTreeRegressor, DecisionTreeClassifier\\nimport matplotlib.pyplot as plt\\n\\n%matplotlib inline\\n\\n# Generate data\\nnp.random.seed(42)\\n\\nn_train = 150\\nn_test = 1000\\nnoise = 0.1\\n\\n# Generate data\\ndef f(x):\\n    x = x.ravel()\\n    return np.exp(-(x ** 2)) + 1.5 * np.exp(-((x - 2) ** 2))\\n\\n\\ndef generate(n_samples, noise):\\n    X = np.random.rand(n_samples) * 10 - 5\\n    X = np.sort(X).ravel()\\n    y = (\\n        np.exp(-(X ** 2))\\n        + 1.5 * np.exp(-((X - 2) ** 2))\\n        + np.random.normal(0.0, noise, n_samples)\\n    )\\n    X = X.reshape((n_samples, 1))\\n    return X, y\\n\\n\\nX_train, y_train = generate(n_samples=n_train, noise=noise)\\nX_test, y_test = generate(n_samples=n_test, noise=noise)\\n\\n\\ndef get_bootstrap_samples(data, n_samples):\\n    indices = np.random.randint(0, len(data), n_samples)\\n    samples = data[indices]\\n    return samples\\n\\n\\ndtrees_bagging = []\\n\\n\\ndef bagging_fit(X, y, n_trees=10, samples_share=1.5):\\n    dtrees_bagging.clear()\\n    full_X_y = np.array(list(zip(np.array(X)[:, 0], y)))\\n    for t in range(n_trees):\\n        samp_X_y = get_bootstrap_samples(full_X_y, int(len(full_X_y) / samples_share))\\n        X_new = samp_X_y[:, 0].reshape((len(samp_X_y), 1))\\n        y_new = samp_X_y[:, 1]\\n        dtrees_bagging.append(DecisionTreeRegressor().fit(X_new, y_new))\\n\\n\\ndef bagging_predict(X):\\n    d_predicts = []\\n    for dtree in dtrees_bagging:\\n        d_predicts.append(dtree.predict(X))\\n    d_predicts = np.array(d_predicts)\\n    return np.mean(d_predicts, axis=0)\\n\\n\\nbagging_fit(X_train, y_train)\\nbdt_predict = bagging_predict(X_test)\\n\\nplt.figure(figsize=(10, 6))\\nplt.plot(X_test, f(X_test), \\\"b\\\")\\nplt.scatter(X_train, y_train, c=\\\"b\\\", s=20)\\nplt.plot(X_test, bdt_predict, \\\"y\\\", lw=2)\\nplt.xlim([-5, 5])\\nplt.title(\\\"Bagging of decision trees, MSE = %.2f\\\" % np.sum((y_test - bdt_predict) ** 2))\";\n",
       "                var nbb_cells = Jupyter.notebook.get_cells();\n",
       "                for (var i = 0; i < nbb_cells.length; ++i) {\n",
       "                    if (nbb_cells[i].input_prompt_number == nbb_cell_id) {\n",
       "                        if (nbb_cells[i].get_text() == nbb_unformatted_code) {\n",
       "                             nbb_cells[i].set_text(nbb_formatted_code);\n",
       "                        }\n",
       "                        break;\n",
       "                    }\n",
       "                }\n",
       "            }, 500);\n",
       "            "
      ],
      "text/plain": [
       "<IPython.core.display.Javascript object>"
      ]
     },
     "metadata": {},
     "output_type": "display_data"
    }
   ],
   "source": [
    "import numpy as np\n",
    "\n",
    "import warnings\n",
    "\n",
    "warnings.filterwarnings(\"ignore\")\n",
    "np.random.seed(42)\n",
    "from sklearn.ensemble import (\n",
    "    RandomForestRegressor,\n",
    "    RandomForestClassifier,\n",
    "    BaggingRegressor,\n",
    ")\n",
    "from sklearn.tree import DecisionTreeRegressor, DecisionTreeClassifier\n",
    "import matplotlib.pyplot as plt\n",
    "\n",
    "%matplotlib inline\n",
    "\n",
    "# Generate data\n",
    "np.random.seed(42)\n",
    "\n",
    "n_train = 150\n",
    "n_test = 1000\n",
    "noise = 0.1\n",
    "\n",
    "# Generate data\n",
    "def f(x):\n",
    "    x = x.ravel()\n",
    "    return np.exp(-(x ** 2)) + 1.5 * np.exp(-((x - 2) ** 2))\n",
    "\n",
    "\n",
    "def generate(n_samples, noise):\n",
    "    X = np.random.rand(n_samples) * 10 - 5\n",
    "    X = np.sort(X).ravel()\n",
    "    y = (\n",
    "        np.exp(-(X ** 2))\n",
    "        + 1.5 * np.exp(-((X - 2) ** 2))\n",
    "        + np.random.normal(0.0, noise, n_samples)\n",
    "    )\n",
    "    X = X.reshape((n_samples, 1))\n",
    "    return X, y\n",
    "\n",
    "\n",
    "X_train, y_train = generate(n_samples=n_train, noise=noise)\n",
    "X_test, y_test = generate(n_samples=n_test, noise=noise)\n",
    "\n",
    "\n",
    "def get_bootstrap_samples(data, n_samples):\n",
    "    indices = np.random.randint(0, len(data), n_samples)\n",
    "    samples = data[indices]\n",
    "    return samples\n",
    "\n",
    "\n",
    "dtrees_bagging = []\n",
    "\n",
    "\n",
    "def bagging_fit(X, y, n_trees=10, samples_share=1.5):\n",
    "    dtrees_bagging.clear()\n",
    "    full_X_y = np.array(list(zip(np.array(X)[:, 0], y)))\n",
    "    for t in range(n_trees):\n",
    "        samp_X_y = get_bootstrap_samples(full_X_y, int(len(full_X_y) / samples_share))\n",
    "        X_new = samp_X_y[:, 0].reshape((len(samp_X_y), 1))\n",
    "        y_new = samp_X_y[:, 1]\n",
    "        dtrees_bagging.append(DecisionTreeRegressor().fit(X_new, y_new))\n",
    "\n",
    "\n",
    "def bagging_predict(X):\n",
    "    d_predicts = []\n",
    "    for dtree in dtrees_bagging:\n",
    "        d_predicts.append(dtree.predict(X))\n",
    "    d_predicts = np.array(d_predicts)\n",
    "    return np.mean(d_predicts, axis=0)\n",
    "\n",
    "\n",
    "bagging_fit(X_train, y_train)\n",
    "bdt_predict = bagging_predict(X_test)\n",
    "\n",
    "plt.figure(figsize=(10, 6))\n",
    "plt.plot(X_test, f(X_test), \"b\")\n",
    "plt.scatter(X_train, y_train, c=\"b\", s=20)\n",
    "plt.plot(X_test, bdt_predict, \"y\", lw=2)\n",
    "plt.xlim([-5, 5])\n",
    "plt.title(\"Bagging of decision trees, MSE = %.2f\" % np.sum((y_test - bdt_predict) ** 2))"
   ]
  },
  {
   "cell_type": "code",
   "execution_count": 25,
   "metadata": {},
   "outputs": [
    {
     "data": {
      "application/javascript": [
       "\n",
       "            setTimeout(function() {\n",
       "                var nbb_cell_id = 25;\n",
       "                var nbb_unformatted_code = \"from operator import itemgetter\";\n",
       "                var nbb_formatted_code = \"from operator import itemgetter\";\n",
       "                var nbb_cells = Jupyter.notebook.get_cells();\n",
       "                for (var i = 0; i < nbb_cells.length; ++i) {\n",
       "                    if (nbb_cells[i].input_prompt_number == nbb_cell_id) {\n",
       "                        if (nbb_cells[i].get_text() == nbb_unformatted_code) {\n",
       "                             nbb_cells[i].set_text(nbb_formatted_code);\n",
       "                        }\n",
       "                        break;\n",
       "                    }\n",
       "                }\n",
       "            }, 500);\n",
       "            "
      ],
      "text/plain": [
       "<IPython.core.display.Javascript object>"
      ]
     },
     "metadata": {},
     "output_type": "display_data"
    }
   ],
   "source": [
    "from operator import itemgetter"
   ]
  },
  {
   "cell_type": "code",
   "execution_count": 26,
   "metadata": {},
   "outputs": [
    {
     "name": "stdout",
     "output_type": "stream",
     "text": [
      "MSE = [12, 4.700000000000003, 11.51404922050447]\n"
     ]
    },
    {
     "data": {
      "application/javascript": [
       "\n",
       "            setTimeout(function() {\n",
       "                var nbb_cell_id = 26;\n",
       "                var nbb_unformatted_code = \"np.random.seed(42)\\n\\nmse_sample = []\\nfor n_trees in range(1, 30):\\n    for share in np.arange(1, 5, 0.1):\\n        bagging_fit(X_train, y_train, n_trees, share)\\n        bdt_predict = bagging_predict(X_test)\\n        mse_sample.append([n_trees, share, np.sum((y_test - bdt_predict) ** 2)])\\n\\nprint(\\\"MSE =\\\", min(mse_sample, key=itemgetter(2)))\";\n",
       "                var nbb_formatted_code = \"np.random.seed(42)\\n\\nmse_sample = []\\nfor n_trees in range(1, 30):\\n    for share in np.arange(1, 5, 0.1):\\n        bagging_fit(X_train, y_train, n_trees, share)\\n        bdt_predict = bagging_predict(X_test)\\n        mse_sample.append([n_trees, share, np.sum((y_test - bdt_predict) ** 2)])\\n\\nprint(\\\"MSE =\\\", min(mse_sample, key=itemgetter(2)))\";\n",
       "                var nbb_cells = Jupyter.notebook.get_cells();\n",
       "                for (var i = 0; i < nbb_cells.length; ++i) {\n",
       "                    if (nbb_cells[i].input_prompt_number == nbb_cell_id) {\n",
       "                        if (nbb_cells[i].get_text() == nbb_unformatted_code) {\n",
       "                             nbb_cells[i].set_text(nbb_formatted_code);\n",
       "                        }\n",
       "                        break;\n",
       "                    }\n",
       "                }\n",
       "            }, 500);\n",
       "            "
      ],
      "text/plain": [
       "<IPython.core.display.Javascript object>"
      ]
     },
     "metadata": {},
     "output_type": "display_data"
    }
   ],
   "source": [
    "np.random.seed(42)\n",
    "\n",
    "mse_sample = []\n",
    "for n_trees in range(1, 30):\n",
    "    for share in np.arange(1, 5, 0.1):\n",
    "        bagging_fit(X_train, y_train, n_trees, share)\n",
    "        bdt_predict = bagging_predict(X_test)\n",
    "        mse_sample.append([n_trees, share, np.sum((y_test - bdt_predict) ** 2)])\n",
    "\n",
    "print(\"MSE =\", min(mse_sample, key=itemgetter(2)))"
   ]
  },
  {
   "cell_type": "markdown",
   "metadata": {},
   "source": [
    "##### Задание 4.\n",
    "\n",
    "На занятии мы не успели попрактиковаться в построении алгоритма машинного обучения на основе RandomForest. Предлагается вам самостоятельно обучить `RandomForestRegressor` на той же самой сгенерированной выборке, что и в коде выше.\n",
    "\n",
    "Вам необходимо самостоятельно разобраться, какие параметры принимает на вход функция. Документация: https://scikit-learn.org/0.20/modules/generated/sklearn.ensemble.RandomForestRegressor.html\n",
    "\n",
    "Подберите оптимальное число деревьев (n_estimators) и глубину деревьев (max_depth) в RandomForest, аналогично тому, как вы сделали это в задании 3.\n",
    "\n",
    "Какой алгоритм в оптимуме отработал лучше? Bagging или RandomForest?"
   ]
  },
  {
   "cell_type": "code",
   "execution_count": 27,
   "metadata": {},
   "outputs": [
    {
     "data": {
      "application/javascript": [
       "\n",
       "            setTimeout(function() {\n",
       "                var nbb_cell_id = 27;\n",
       "                var nbb_unformatted_code = \"from sklearn.ensemble import RandomForestRegressor\";\n",
       "                var nbb_formatted_code = \"from sklearn.ensemble import RandomForestRegressor\";\n",
       "                var nbb_cells = Jupyter.notebook.get_cells();\n",
       "                for (var i = 0; i < nbb_cells.length; ++i) {\n",
       "                    if (nbb_cells[i].input_prompt_number == nbb_cell_id) {\n",
       "                        if (nbb_cells[i].get_text() == nbb_unformatted_code) {\n",
       "                             nbb_cells[i].set_text(nbb_formatted_code);\n",
       "                        }\n",
       "                        break;\n",
       "                    }\n",
       "                }\n",
       "            }, 500);\n",
       "            "
      ],
      "text/plain": [
       "<IPython.core.display.Javascript object>"
      ]
     },
     "metadata": {},
     "output_type": "display_data"
    }
   ],
   "source": [
    "from sklearn.ensemble import RandomForestRegressor"
   ]
  },
  {
   "cell_type": "code",
   "execution_count": 31,
   "metadata": {},
   "outputs": [
    {
     "data": {
      "application/javascript": [
       "\n",
       "            setTimeout(function() {\n",
       "                var nbb_cell_id = 31;\n",
       "                var nbb_unformatted_code = \"np.random.seed(42)\\nrfr = RandomForestRegressor(\\n    n_estimators=100, max_depth=5, min_samples_leaf=3\\n)\\nrfr.fit(X_train, y_train)\\nrfr_predict = rfr.predict(X_test)\";\n",
       "                var nbb_formatted_code = \"np.random.seed(42)\\nrfr = RandomForestRegressor(n_estimators=100, max_depth=5, min_samples_leaf=3)\\nrfr.fit(X_train, y_train)\\nrfr_predict = rfr.predict(X_test)\";\n",
       "                var nbb_cells = Jupyter.notebook.get_cells();\n",
       "                for (var i = 0; i < nbb_cells.length; ++i) {\n",
       "                    if (nbb_cells[i].input_prompt_number == nbb_cell_id) {\n",
       "                        if (nbb_cells[i].get_text() == nbb_unformatted_code) {\n",
       "                             nbb_cells[i].set_text(nbb_formatted_code);\n",
       "                        }\n",
       "                        break;\n",
       "                    }\n",
       "                }\n",
       "            }, 500);\n",
       "            "
      ],
      "text/plain": [
       "<IPython.core.display.Javascript object>"
      ]
     },
     "metadata": {},
     "output_type": "display_data"
    }
   ],
   "source": [
    "np.random.seed(42)\n",
    "rfr = RandomForestRegressor(n_estimators=100, max_depth=5, min_samples_leaf=3)\n",
    "rfr.fit(X_train, y_train)\n",
    "rfr_predict = rfr.predict(X_test)"
   ]
  },
  {
   "cell_type": "code",
   "execution_count": 29,
   "metadata": {},
   "outputs": [
    {
     "data": {
      "text/plain": [
       "13.788109509076692"
      ]
     },
     "execution_count": 29,
     "metadata": {},
     "output_type": "execute_result"
    },
    {
     "data": {
      "application/javascript": [
       "\n",
       "            setTimeout(function() {\n",
       "                var nbb_cell_id = 29;\n",
       "                var nbb_unformatted_code = \"np.sum((y_test - rfr_predict) ** 2)\";\n",
       "                var nbb_formatted_code = \"np.sum((y_test - rfr_predict) ** 2)\";\n",
       "                var nbb_cells = Jupyter.notebook.get_cells();\n",
       "                for (var i = 0; i < nbb_cells.length; ++i) {\n",
       "                    if (nbb_cells[i].input_prompt_number == nbb_cell_id) {\n",
       "                        if (nbb_cells[i].get_text() == nbb_unformatted_code) {\n",
       "                             nbb_cells[i].set_text(nbb_formatted_code);\n",
       "                        }\n",
       "                        break;\n",
       "                    }\n",
       "                }\n",
       "            }, 500);\n",
       "            "
      ],
      "text/plain": [
       "<IPython.core.display.Javascript object>"
      ]
     },
     "metadata": {},
     "output_type": "display_data"
    }
   ],
   "source": [
    "np.sum((y_test - rfr_predict) ** 2)"
   ]
  },
  {
   "cell_type": "code",
   "execution_count": 38,
   "metadata": {},
   "outputs": [
    {
     "name": "stdout",
     "output_type": "stream",
     "text": [
      "MSE = [30, 16, 3, 12.265008543555773]\n"
     ]
    },
    {
     "data": {
      "application/javascript": [
       "\n",
       "            setTimeout(function() {\n",
       "                var nbb_cell_id = 38;\n",
       "                var nbb_unformatted_code = \"np.random.seed(42)\\n\\nmse_sample = []\\nfor max_depth in range(1, 20):\\n    for min_samples_leaf in np.arange(1, 5):\\n        for n_estimators in range(10, 150, 5):\\n            rfr = RandomForestRegressor(\\n                n_estimators=n_estimators,\\n                max_depth=max_depth,\\n                min_samples_leaf=min_samples_leaf,\\n            )\\n            rfr.fit(X_train, y_train)\\n            rfr_predict = rfr.predict(X_test)\\n            mse_sample.append(\\n                [\\n                    n_estimators,\\n                    max_depth,\\n                    min_samples_leaf,\\n                    np.sum((y_test - rfr_predict) ** 2),\\n                ]\\n            )\\n\\nprint(\\\"MSE =\\\", min(mse_sample, key=itemgetter(3)))\";\n",
       "                var nbb_formatted_code = \"np.random.seed(42)\\n\\nmse_sample = []\\nfor max_depth in range(1, 20):\\n    for min_samples_leaf in np.arange(1, 5):\\n        for n_estimators in range(10, 150, 5):\\n            rfr = RandomForestRegressor(\\n                n_estimators=n_estimators,\\n                max_depth=max_depth,\\n                min_samples_leaf=min_samples_leaf,\\n            )\\n            rfr.fit(X_train, y_train)\\n            rfr_predict = rfr.predict(X_test)\\n            mse_sample.append(\\n                [\\n                    n_estimators,\\n                    max_depth,\\n                    min_samples_leaf,\\n                    np.sum((y_test - rfr_predict) ** 2),\\n                ]\\n            )\\n\\nprint(\\\"MSE =\\\", min(mse_sample, key=itemgetter(3)))\";\n",
       "                var nbb_cells = Jupyter.notebook.get_cells();\n",
       "                for (var i = 0; i < nbb_cells.length; ++i) {\n",
       "                    if (nbb_cells[i].input_prompt_number == nbb_cell_id) {\n",
       "                        if (nbb_cells[i].get_text() == nbb_unformatted_code) {\n",
       "                             nbb_cells[i].set_text(nbb_formatted_code);\n",
       "                        }\n",
       "                        break;\n",
       "                    }\n",
       "                }\n",
       "            }, 500);\n",
       "            "
      ],
      "text/plain": [
       "<IPython.core.display.Javascript object>"
      ]
     },
     "metadata": {},
     "output_type": "display_data"
    }
   ],
   "source": [
    "np.random.seed(42)\n",
    "\n",
    "mse_sample = []\n",
    "for max_depth in range(1, 20):\n",
    "    for min_samples_leaf in np.arange(1, 5):\n",
    "        for n_estimators in range(10, 150, 5):\n",
    "            rfr = RandomForestRegressor(\n",
    "                n_estimators=n_estimators,\n",
    "                max_depth=max_depth,\n",
    "                min_samples_leaf=min_samples_leaf,\n",
    "            )\n",
    "            rfr.fit(X_train, y_train)\n",
    "            rfr_predict = rfr.predict(X_test)\n",
    "            mse_sample.append(\n",
    "                [\n",
    "                    n_estimators,\n",
    "                    max_depth,\n",
    "                    min_samples_leaf,\n",
    "                    np.sum((y_test - rfr_predict) ** 2),\n",
    "                ]\n",
    "            )\n",
    "\n",
    "print(\"MSE =\", min(mse_sample, key=itemgetter(3)))"
   ]
  },
  {
   "cell_type": "markdown",
   "metadata": {},
   "source": [
    "Количество деревьев = 30\n",
    "\n",
    "Максимальная глубина = 16\n",
    "\n",
    "Размер минимальной выборки в листе = 3"
   ]
  },
  {
   "cell_type": "markdown",
   "metadata": {},
   "source": [
    "##### Bagging отработал лучше если сравнивать ошибку MSE "
   ]
  },
  {
   "cell_type": "markdown",
   "metadata": {},
   "source": [
    "##### Задание 5.\n",
    "\n",
    "1. Замените функцию `np.exp(-x ** 2) + 1.5 * np.exp(-(x - 2) ** 2)` в задании 3 на более сложную:  \n",
    "`1/10 * (ln(x)/2)**sin(x)` в диапазоне `27 > x > 16` (https://snob.ru/selected/entry/8779)\n",
    "2. Увеличьте шум.\n",
    "\n",
    "Проделайте те же самые шаги - обучите обычное дерево решений, бэггинг деревьев решение и RandomForest. Сравните метрики. Насколько они отличаются от того, что получилось в задании 3 и 4?"
   ]
  },
  {
   "cell_type": "code",
   "execution_count": 45,
   "metadata": {},
   "outputs": [
    {
     "data": {
      "application/javascript": [
       "\n",
       "            setTimeout(function() {\n",
       "                var nbb_cell_id = 45;\n",
       "                var nbb_unformatted_code = \"np.random.seed(42)\\n\\n\\ndef f(x):\\n    x = x.ravel()\\n    return 1 / 10 * (np.log(x) / 2) ** np.sin(x)\\n\\n\\nnoise = 0.2\\n\\n\\ndef generate(n_samples, noise):\\n    X = np.random.randint(16, 27, n_samples)\\n    X = np.sort(X).ravel()\\n    y = 1 / 10 * (np.log(X) / 2) ** np.sin(X) + np.random.normal(0.0, noise, n_samples)\\n    X = X.reshape((n_samples, 1))\\n    return X, y\\n\\n\\nX_train_new, y_train_new = generate(n_samples=n_train, noise=noise)\\nX_test_new, y_test_new = generate(n_samples=n_test, noise=noise)\";\n",
       "                var nbb_formatted_code = \"np.random.seed(42)\\n\\n\\ndef f(x):\\n    x = x.ravel()\\n    return 1 / 10 * (np.log(x) / 2) ** np.sin(x)\\n\\n\\nnoise = 0.2\\n\\n\\ndef generate(n_samples, noise):\\n    X = np.random.randint(16, 27, n_samples)\\n    X = np.sort(X).ravel()\\n    y = 1 / 10 * (np.log(X) / 2) ** np.sin(X) + np.random.normal(0.0, noise, n_samples)\\n    X = X.reshape((n_samples, 1))\\n    return X, y\\n\\n\\nX_train_new, y_train_new = generate(n_samples=n_train, noise=noise)\\nX_test_new, y_test_new = generate(n_samples=n_test, noise=noise)\";\n",
       "                var nbb_cells = Jupyter.notebook.get_cells();\n",
       "                for (var i = 0; i < nbb_cells.length; ++i) {\n",
       "                    if (nbb_cells[i].input_prompt_number == nbb_cell_id) {\n",
       "                        if (nbb_cells[i].get_text() == nbb_unformatted_code) {\n",
       "                             nbb_cells[i].set_text(nbb_formatted_code);\n",
       "                        }\n",
       "                        break;\n",
       "                    }\n",
       "                }\n",
       "            }, 500);\n",
       "            "
      ],
      "text/plain": [
       "<IPython.core.display.Javascript object>"
      ]
     },
     "metadata": {},
     "output_type": "display_data"
    }
   ],
   "source": [
    "np.random.seed(42)\n",
    "\n",
    "\n",
    "def f(x):\n",
    "    x = x.ravel()\n",
    "    return 1 / 10 * (np.log(x) / 2) ** np.sin(x)\n",
    "\n",
    "\n",
    "noise = 0.2\n",
    "\n",
    "\n",
    "def generate(n_samples, noise):\n",
    "    X = np.random.randint(16, 27, n_samples)\n",
    "    X = np.sort(X).ravel()\n",
    "    y = 1 / 10 * (np.log(X) / 2) ** np.sin(X) + np.random.normal(0.0, noise, n_samples)\n",
    "    X = X.reshape((n_samples, 1))\n",
    "    return X, y\n",
    "\n",
    "\n",
    "X_train_new, y_train_new = generate(n_samples=n_train, noise=noise)\n",
    "X_test_new, y_test_new = generate(n_samples=n_test, noise=noise)"
   ]
  },
  {
   "cell_type": "code",
   "execution_count": 56,
   "metadata": {},
   "outputs": [
    {
     "data": {
      "application/javascript": [
       "\n",
       "            setTimeout(function() {\n",
       "                var nbb_cell_id = 56;\n",
       "                var nbb_unformatted_code = \"tree = DecisionTreeRegressor()\\ntree.fit(X_train_new, y_train_new)\\ntree_pred = tree.predict(X_test_new)\";\n",
       "                var nbb_formatted_code = \"tree = DecisionTreeRegressor()\\ntree.fit(X_train_new, y_train_new)\\ntree_pred = tree.predict(X_test_new)\";\n",
       "                var nbb_cells = Jupyter.notebook.get_cells();\n",
       "                for (var i = 0; i < nbb_cells.length; ++i) {\n",
       "                    if (nbb_cells[i].input_prompt_number == nbb_cell_id) {\n",
       "                        if (nbb_cells[i].get_text() == nbb_unformatted_code) {\n",
       "                             nbb_cells[i].set_text(nbb_formatted_code);\n",
       "                        }\n",
       "                        break;\n",
       "                    }\n",
       "                }\n",
       "            }, 500);\n",
       "            "
      ],
      "text/plain": [
       "<IPython.core.display.Javascript object>"
      ]
     },
     "metadata": {},
     "output_type": "display_data"
    }
   ],
   "source": [
    "tree = DecisionTreeRegressor()\n",
    "tree.fit(X_train_new, y_train_new)\n",
    "tree_pred = tree.predict(X_test_new)"
   ]
  },
  {
   "cell_type": "code",
   "execution_count": 57,
   "metadata": {},
   "outputs": [
    {
     "name": "stdout",
     "output_type": "stream",
     "text": [
      "Tree MSE = 364.4017269664389\n"
     ]
    },
    {
     "data": {
      "application/javascript": [
       "\n",
       "            setTimeout(function() {\n",
       "                var nbb_cell_id = 57;\n",
       "                var nbb_unformatted_code = \"print(\\\"Tree MSE =\\\", np.sum((y_test - tree_pred) ** 2))\";\n",
       "                var nbb_formatted_code = \"print(\\\"Tree MSE =\\\", np.sum((y_test - tree_pred) ** 2))\";\n",
       "                var nbb_cells = Jupyter.notebook.get_cells();\n",
       "                for (var i = 0; i < nbb_cells.length; ++i) {\n",
       "                    if (nbb_cells[i].input_prompt_number == nbb_cell_id) {\n",
       "                        if (nbb_cells[i].get_text() == nbb_unformatted_code) {\n",
       "                             nbb_cells[i].set_text(nbb_formatted_code);\n",
       "                        }\n",
       "                        break;\n",
       "                    }\n",
       "                }\n",
       "            }, 500);\n",
       "            "
      ],
      "text/plain": [
       "<IPython.core.display.Javascript object>"
      ]
     },
     "metadata": {},
     "output_type": "display_data"
    }
   ],
   "source": [
    "print(\"Tree MSE =\", np.sum((y_test - tree_pred) ** 2))"
   ]
  },
  {
   "cell_type": "code",
   "execution_count": 59,
   "metadata": {},
   "outputs": [
    {
     "name": "stdout",
     "output_type": "stream",
     "text": [
      "Bagging MSE = [13, 4.200000000000003, 42.56923764961873]\n"
     ]
    },
    {
     "data": {
      "application/javascript": [
       "\n",
       "            setTimeout(function() {\n",
       "                var nbb_cell_id = 59;\n",
       "                var nbb_unformatted_code = \"np.random.seed(42)\\n\\nmse_sample = []\\nfor n_trees in range(1, 30):\\n    for share in np.arange(1, 5, 0.1):\\n        bagging_fit(X_train_new, y_train_new, n_trees, share)\\n        bdt_predict = bagging_predict(X_test_new)\\n        mse_sample.append([n_trees, share, np.sum((y_test_new - bdt_predict) ** 2)])\\n\\nprint(\\\"Bagging MSE =\\\", min(mse_sample, key=itemgetter(2)))\";\n",
       "                var nbb_formatted_code = \"np.random.seed(42)\\n\\nmse_sample = []\\nfor n_trees in range(1, 30):\\n    for share in np.arange(1, 5, 0.1):\\n        bagging_fit(X_train_new, y_train_new, n_trees, share)\\n        bdt_predict = bagging_predict(X_test_new)\\n        mse_sample.append([n_trees, share, np.sum((y_test_new - bdt_predict) ** 2)])\\n\\nprint(\\\"Bagging MSE =\\\", min(mse_sample, key=itemgetter(2)))\";\n",
       "                var nbb_cells = Jupyter.notebook.get_cells();\n",
       "                for (var i = 0; i < nbb_cells.length; ++i) {\n",
       "                    if (nbb_cells[i].input_prompt_number == nbb_cell_id) {\n",
       "                        if (nbb_cells[i].get_text() == nbb_unformatted_code) {\n",
       "                             nbb_cells[i].set_text(nbb_formatted_code);\n",
       "                        }\n",
       "                        break;\n",
       "                    }\n",
       "                }\n",
       "            }, 500);\n",
       "            "
      ],
      "text/plain": [
       "<IPython.core.display.Javascript object>"
      ]
     },
     "metadata": {},
     "output_type": "display_data"
    }
   ],
   "source": [
    "np.random.seed(42)\n",
    "\n",
    "mse_sample = []\n",
    "for n_trees in range(1, 30):\n",
    "    for share in np.arange(1, 5, 0.1):\n",
    "        bagging_fit(X_train_new, y_train_new, n_trees, share)\n",
    "        bdt_predict = bagging_predict(X_test_new)\n",
    "        mse_sample.append([n_trees, share, np.sum((y_test_new - bdt_predict) ** 2)])\n",
    "\n",
    "print(\"Bagging MSE =\", min(mse_sample, key=itemgetter(2)))"
   ]
  },
  {
   "cell_type": "code",
   "execution_count": 60,
   "metadata": {},
   "outputs": [
    {
     "name": "stdout",
     "output_type": "stream",
     "text": [
      "Forest MSE = [15, 1, 4, 42.73296812544714]\n"
     ]
    },
    {
     "data": {
      "application/javascript": [
       "\n",
       "            setTimeout(function() {\n",
       "                var nbb_cell_id = 60;\n",
       "                var nbb_unformatted_code = \"np.random.seed(42)\\n\\nmse_sample = []\\nfor max_depth in range(1, 20):\\n    for min_samples_leaf in np.arange(1, 5):\\n        for n_estimators in range(10, 150, 5):\\n            rfr = RandomForestRegressor(\\n                n_estimators=n_estimators,\\n                max_depth=max_depth,\\n                min_samples_leaf=min_samples_leaf,\\n            )\\n            rfr.fit(X_train_new, y_train_new)\\n            rfr_predict = rfr.predict(X_test_new)\\n            mse_sample.append(\\n                [\\n                    n_estimators,\\n                    max_depth,\\n                    min_samples_leaf,\\n                    np.sum((y_test_new - rfr_predict) ** 2),\\n                ]\\n            )\\n\\nprint(\\\"Forest MSE =\\\", min(mse_sample, key=itemgetter(3)))\";\n",
       "                var nbb_formatted_code = \"np.random.seed(42)\\n\\nmse_sample = []\\nfor max_depth in range(1, 20):\\n    for min_samples_leaf in np.arange(1, 5):\\n        for n_estimators in range(10, 150, 5):\\n            rfr = RandomForestRegressor(\\n                n_estimators=n_estimators,\\n                max_depth=max_depth,\\n                min_samples_leaf=min_samples_leaf,\\n            )\\n            rfr.fit(X_train_new, y_train_new)\\n            rfr_predict = rfr.predict(X_test_new)\\n            mse_sample.append(\\n                [\\n                    n_estimators,\\n                    max_depth,\\n                    min_samples_leaf,\\n                    np.sum((y_test_new - rfr_predict) ** 2),\\n                ]\\n            )\\n\\nprint(\\\"Forest MSE =\\\", min(mse_sample, key=itemgetter(3)))\";\n",
       "                var nbb_cells = Jupyter.notebook.get_cells();\n",
       "                for (var i = 0; i < nbb_cells.length; ++i) {\n",
       "                    if (nbb_cells[i].input_prompt_number == nbb_cell_id) {\n",
       "                        if (nbb_cells[i].get_text() == nbb_unformatted_code) {\n",
       "                             nbb_cells[i].set_text(nbb_formatted_code);\n",
       "                        }\n",
       "                        break;\n",
       "                    }\n",
       "                }\n",
       "            }, 500);\n",
       "            "
      ],
      "text/plain": [
       "<IPython.core.display.Javascript object>"
      ]
     },
     "metadata": {},
     "output_type": "display_data"
    }
   ],
   "source": [
    "np.random.seed(42)\n",
    "\n",
    "mse_sample = []\n",
    "for max_depth in range(1, 20):\n",
    "    for min_samples_leaf in np.arange(1, 5):\n",
    "        for n_estimators in range(10, 150, 5):\n",
    "            rfr = RandomForestRegressor(\n",
    "                n_estimators=n_estimators,\n",
    "                max_depth=max_depth,\n",
    "                min_samples_leaf=min_samples_leaf,\n",
    "            )\n",
    "            rfr.fit(X_train_new, y_train_new)\n",
    "            rfr_predict = rfr.predict(X_test_new)\n",
    "            mse_sample.append(\n",
    "                [\n",
    "                    n_estimators,\n",
    "                    max_depth,\n",
    "                    min_samples_leaf,\n",
    "                    np.sum((y_test_new - rfr_predict) ** 2),\n",
    "                ]\n",
    "            )\n",
    "\n",
    "print(\"Forest MSE =\", min(mse_sample, key=itemgetter(3)))"
   ]
  },
  {
   "cell_type": "markdown",
   "metadata": {},
   "source": [
    "### Значения ошибки в предсказании более сложной функции и с большим шумом оказались выше в несколько раз вне зависимости от метода"
   ]
  }
 ],
 "metadata": {
  "kernelspec": {
   "display_name": "Python 3",
   "language": "python",
   "name": "python3"
  },
  "language_info": {
   "codemirror_mode": {
    "name": "ipython",
    "version": 3
   },
   "file_extension": ".py",
   "mimetype": "text/x-python",
   "name": "python",
   "nbconvert_exporter": "python",
   "pygments_lexer": "ipython3",
   "version": "3.7.3"
  }
 },
 "nbformat": 4,
 "nbformat_minor": 2
}
